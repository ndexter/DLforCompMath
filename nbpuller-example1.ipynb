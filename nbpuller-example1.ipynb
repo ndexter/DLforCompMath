{
 "cells": [
  {
   "cell_type": "markdown",
   "metadata": {},
   "source": [
    "## Example Notebook Illustrating `nbpuller`"
   ]
  },
  {
   "cell_type": "markdown",
   "metadata": {
    "collapsed": true
   },
   "source": [
    "![pims-logo](http://media.pims.math.ca/logos/webvertlcaselarge.png)"
   ]
  },
  {
   "cell_type": "markdown",
   "metadata": {
    "collapsed": true
   },
   "source": [
    "This notebook demonstrates how to contstruct [nbgitpuller](https://github.com/data-8/nbgitpuller) links and some other bits and pieces. Each nbgitpuller URL consists of a jupyterhub server, a repository and (optionally) some parameters.\n",
    "\n",
    "### Execute All of the following cells in order..."
   ]
  },
  {
   "cell_type": "code",
   "execution_count": 1,
   "metadata": {},
   "outputs": [],
   "source": [
    "import ipywidgets as widgets\n",
    "from IPython.display import display"
   ]
  },
  {
   "cell_type": "markdown",
   "metadata": {},
   "source": [
    "The hub can be any valid JupyterHub URL as long as nbgitpuller has been installed there."
   ]
  },
  {
   "cell_type": "code",
   "execution_count": 2,
   "metadata": {},
   "outputs": [
    {
     "data": {
      "application/vnd.jupyter.widget-view+json": {
       "model_id": "3ffb539546cc4ffd8918a526eb38fb0c",
       "version_major": 2,
       "version_minor": 0
      },
      "text/plain": [
       "Dropdown(description='Hub', options={'pims': 'https://pims.syzygy.ca/jupyter', 'cybera': 'https://cybera.syzyg…"
      ]
     },
     "metadata": {},
     "output_type": "display_data"
    }
   ],
   "source": [
    "hubs = {\n",
    "    'pims': 'https://pims.syzygy.ca/jupyter',\n",
    "    'cybera' : 'https://cybera.syzygy.ca/jupyter'\n",
    "}\n",
    "hub = widgets.Dropdown(options=hubs, description=\"Hub\")\n",
    "hub"
   ]
  },
  {
   "cell_type": "markdown",
   "metadata": {},
   "source": [
    "Specify a publically accessible github url, e.g. `https://github.com/pimsmath/public-notebooks`"
   ]
  },
  {
   "cell_type": "code",
   "execution_count": 3,
   "metadata": {},
   "outputs": [
    {
     "data": {
      "application/vnd.jupyter.widget-view+json": {
       "model_id": "b60adcc1d9014a50a1d2b4aedb747e46",
       "version_major": 2,
       "version_minor": 0
      },
      "text/plain": [
       "Text(value='https://github.com/pimsmath/public-notebooks', description='GitHub repo', layout=Layout(width='80%…"
      ]
     },
     "metadata": {},
     "output_type": "display_data"
    }
   ],
   "source": [
    "repo = widgets.Text(value='https://github.com/pimsmath/public-notebooks', \n",
    "                    description='GitHub repo', \n",
    "                    layout=widgets.Layout(width='80%'))\n",
    "repo"
   ]
  },
  {
   "cell_type": "markdown",
   "metadata": {},
   "source": [
    "Optionally, you can specify a subPath within the repository (if you don't want to clone the whole repository). For example, this notebook has the filename `nbpuller-example1.ipynb` inside the `pimsmath/public-notebooks` repository on GitHub."
   ]
  },
  {
   "cell_type": "code",
   "execution_count": 4,
   "metadata": {},
   "outputs": [
    {
     "data": {
      "application/vnd.jupyter.widget-view+json": {
       "model_id": "2079e16921cd45048191ea89f147fdea",
       "version_major": 2,
       "version_minor": 0
      },
      "text/plain": [
       "Text(value='', description='Sub path', placeholder='')"
      ]
     },
     "metadata": {},
     "output_type": "display_data"
    }
   ],
   "source": [
    "subPath = widgets.Text(placeholder='', description='Sub path')\n",
    "subPath"
   ]
  },
  {
   "cell_type": "code",
   "execution_count": 5,
   "metadata": {},
   "outputs": [
    {
     "data": {
      "application/vnd.jupyter.widget-view+json": {
       "model_id": "865cb21a2ba14d838ba29137e452f252",
       "version_major": 2,
       "version_minor": 0
      },
      "text/plain": [
       "Text(value='', description='Branch', placeholder='master')"
      ]
     },
     "metadata": {},
     "output_type": "display_data"
    }
   ],
   "source": [
    "branch = widgets.Text(placeholder='master', description='Branch')\n",
    "branch"
   ]
  },
  {
   "cell_type": "code",
   "execution_count": 6,
   "metadata": {},
   "outputs": [
    {
     "name": "stdout",
     "output_type": "stream",
     "text": [
      "Here is the resulting URL:\n"
     ]
    },
    {
     "data": {
      "application/vnd.jupyter.widget-view+json": {
       "model_id": "1ebe1f40fe894d7a88fc2e0b4bf355a6",
       "version_major": 2,
       "version_minor": 0
      },
      "text/plain": [
       "Output()"
      ]
     },
     "metadata": {},
     "output_type": "display_data"
    }
   ],
   "source": [
    "def build_nbgitpuller_url(hub, repo, subPath, branch):\n",
    "    url = '{}/user-redirect/git-pull?repo={}'.format(hub, repo)\n",
    "    if subPath:\n",
    "        url += '&subPath={}'.format(subPath)\n",
    "    if branch:\n",
    "        url += '&branch={}'.format(branch)\n",
    "    print(url)\n",
    "    \n",
    "out = widgets.interactive_output(build_nbgitpuller_url, \n",
    "                                 {'hub': hub, \n",
    "                                  'repo': repo, \n",
    "                                  'subPath': subPath,\n",
    "                                  'branch': branch\n",
    "                                 })\n",
    "\n",
    "print(\"Here is the resulting URL:\")\n",
    "display(out)"
   ]
  },
  {
   "cell_type": "code",
   "execution_count": null,
   "metadata": {},
   "outputs": [],
   "source": []
  }
 ],
 "metadata": {
  "kernelspec": {
   "display_name": "Python 3",
   "language": "python",
   "name": "python3"
  },
  "language_info": {
   "codemirror_mode": {
    "name": "ipython",
    "version": 3
   },
   "file_extension": ".py",
   "mimetype": "text/x-python",
   "name": "python",
   "nbconvert_exporter": "python",
   "pygments_lexer": "ipython3",
   "version": "3.7.3"
  }
 },
 "nbformat": 4,
 "nbformat_minor": 2
}
