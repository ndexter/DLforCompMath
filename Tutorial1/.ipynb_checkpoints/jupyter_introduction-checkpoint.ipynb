{
 "cells": [
  {
   "cell_type": "markdown",
   "metadata": {
    "toc": "true"
   },
   "source": [
    "# Table of Contents\n",
    " <p><div class=\"lev1 toc-item\"><a href=\"#Summary-for-today\" data-toc-modified-id=\"Summary-for-today-1\"><span class=\"toc-item-num\">1&nbsp;&nbsp;</span>Summary for today</a></div><div class=\"lev1 toc-item\"><a href=\"#Jupyter-Magics\" data-toc-modified-id=\"Jupyter-Magics-2\"><span class=\"toc-item-num\">2&nbsp;&nbsp;</span>Jupyter Magics</a></div><div class=\"lev2 toc-item\"><a href=\"#View-available-magics\" data-toc-modified-id=\"View-available-magics-21\"><span class=\"toc-item-num\">2.1&nbsp;&nbsp;</span>View available magics</a></div><div class=\"lev2 toc-item\"><a href=\"#Getting-help\" data-toc-modified-id=\"Getting-help-22\"><span class=\"toc-item-num\">2.2&nbsp;&nbsp;</span>Getting help</a></div><div class=\"lev2 toc-item\"><a href=\"#Timing-things!\" data-toc-modified-id=\"Timing-things!-23\"><span class=\"toc-item-num\">2.3&nbsp;&nbsp;</span>Timing things!</a></div><div class=\"lev2 toc-item\"><a href=\"#More-Magics\" data-toc-modified-id=\"More-Magics-24\"><span class=\"toc-item-num\">2.4&nbsp;&nbsp;</span>More Magics</a></div><div class=\"lev1 toc-item\"><a href=\"#Coding-basics-and-Pythonic-programming\" data-toc-modified-id=\"Coding-basics-and-Pythonic-programming-3\"><span class=\"toc-item-num\">3&nbsp;&nbsp;</span>Coding basics and Pythonic programming</a></div><div class=\"lev2 toc-item\"><a href=\"#Classes-in-Python\" data-toc-modified-id=\"Classes-in-Python-31\"><span class=\"toc-item-num\">3.1&nbsp;&nbsp;</span>Classes in Python</a></div><div class=\"lev2 toc-item\"><a href=\"#Generators\" data-toc-modified-id=\"Generators-32\"><span class=\"toc-item-num\">3.2&nbsp;&nbsp;</span>Generators</a></div><div class=\"lev3 toc-item\"><a href=\"#Simple-generator\" data-toc-modified-id=\"Simple-generator-321\"><span class=\"toc-item-num\">3.2.1&nbsp;&nbsp;</span>Simple generator</a></div><div class=\"lev3 toc-item\"><a href=\"#More-interesting\" data-toc-modified-id=\"More-interesting-322\"><span class=\"toc-item-num\">3.2.2&nbsp;&nbsp;</span>More interesting</a></div><div class=\"lev1 toc-item\"><a href=\"#Running-stuff-quickly\" data-toc-modified-id=\"Running-stuff-quickly-4\"><span class=\"toc-item-num\">4&nbsp;&nbsp;</span>Running stuff quickly</a></div><div class=\"lev2 toc-item\"><a href=\"#Fast(er)-norm-computations\" data-toc-modified-id=\"Fast(er)-norm-computations-41\"><span class=\"toc-item-num\">4.1&nbsp;&nbsp;</span>Fast(er) norm computations</a></div><div class=\"lev2 toc-item\"><a href=\"#Fast(er)-function-evaluations\" data-toc-modified-id=\"Fast(er)-function-evaluations-42\"><span class=\"toc-item-num\">4.2&nbsp;&nbsp;</span>Fast(er) function evaluations</a></div><div class=\"lev2 toc-item\"><a href=\"#Choose-the-right-function!\" data-toc-modified-id=\"Choose-the-right-function!-43\"><span class=\"toc-item-num\">4.3&nbsp;&nbsp;</span>Choose the right function!</a></div><div class=\"lev3 toc-item\"><a href=\"#The-reduce-function\" data-toc-modified-id=\"The-reduce-function-431\"><span class=\"toc-item-num\">4.3.1&nbsp;&nbsp;</span>The <code>reduce</code> function</a></div><div class=\"lev3 toc-item\"><a href=\"#Performance-of-reduce-vs.-sum\" data-toc-modified-id=\"Performance-of-reduce-vs.-sum-432\"><span class=\"toc-item-num\">4.3.2&nbsp;&nbsp;</span>Performance of <code>reduce</code> <em>vs.</em> <code>sum</code></a></div><div class=\"lev3 toc-item\"><a href=\"#Take-home\" data-toc-modified-id=\"Take-home-433\"><span class=\"toc-item-num\">4.3.3&nbsp;&nbsp;</span>Take-home</a></div><div class=\"lev1 toc-item\"><a href=\"#Fast-Computations-in-Python-with-Numba,-Cython,-etc.\" data-toc-modified-id=\"Fast-Computations-in-Python-with-Numba,-Cython,-etc.-5\"><span class=\"toc-item-num\">5&nbsp;&nbsp;</span>Fast Computations in Python with Numba, Cython, etc.</a></div><div class=\"lev2 toc-item\"><a href=\"#Set-up-for-the-example\" data-toc-modified-id=\"Set-up-for-the-example-51\"><span class=\"toc-item-num\">5.1&nbsp;&nbsp;</span>Set up for the example</a></div><div class=\"lev2 toc-item\"><a href=\"#Numba-version\" data-toc-modified-id=\"Numba-version-52\"><span class=\"toc-item-num\">5.2&nbsp;&nbsp;</span>Numba version</a></div><div class=\"lev2 toc-item\"><a href=\"#Other-options\" data-toc-modified-id=\"Other-options-53\"><span class=\"toc-item-num\">5.3&nbsp;&nbsp;</span>Other options</a></div>"
   ]
  },
  {
   "cell_type": "markdown",
   "metadata": {},
   "source": [
    "# Summary for today\n",
    "\n",
    "* Jupyter magics\n",
    "    * available magics\n",
    "    * seeking help\n",
    "    * timing things\n",
    "    * Executing `bash` commands from within Jupyter\n",
    "* Coding basics and pythonic programming\n",
    "    * classes in python\n",
    "    * generators\n",
    "* Running stuff quickly\n",
    "    * norm computations\n",
    "    * function evaluations\n",
    "    * choosing the right python function\n",
    "* Fast computations using more powerful packages\n",
    "    * Computing the mandelbrot set\n",
    "    * Using `numba`\n",
    "    * Other options: `numexpr`, `cython`"
   ]
  },
  {
   "cell_type": "markdown",
   "metadata": {},
   "source": [
    "# Jupyter Magics"
   ]
  },
  {
   "cell_type": "markdown",
   "metadata": {},
   "source": [
    "## View available magics"
   ]
  },
  {
   "cell_type": "code",
   "execution_count": 1,
   "metadata": {
    "scrolled": true
   },
   "outputs": [
    {
     "data": {
      "application/json": {
       "cell": {
        "!": "OSMagics",
        "HTML": "Other",
        "SVG": "Other",
        "bash": "Other",
        "capture": "ExecutionMagics",
        "debug": "ExecutionMagics",
        "file": "Other",
        "html": "DisplayMagics",
        "javascript": "DisplayMagics",
        "js": "DisplayMagics",
        "latex": "DisplayMagics",
        "markdown": "DisplayMagics",
        "perl": "Other",
        "prun": "ExecutionMagics",
        "pypy": "Other",
        "python": "Other",
        "python2": "Other",
        "python3": "Other",
        "ruby": "Other",
        "script": "ScriptMagics",
        "sh": "Other",
        "svg": "DisplayMagics",
        "sx": "OSMagics",
        "system": "OSMagics",
        "time": "ExecutionMagics",
        "timeit": "ExecutionMagics",
        "writefile": "OSMagics"
       },
       "line": {
        "alias": "OSMagics",
        "alias_magic": "BasicMagics",
        "autoawait": "AsyncMagics",
        "autocall": "AutoMagics",
        "automagic": "AutoMagics",
        "autosave": "KernelMagics",
        "bookmark": "OSMagics",
        "cat": "Other",
        "cd": "OSMagics",
        "clear": "KernelMagics",
        "colors": "BasicMagics",
        "conda": "PackagingMagics",
        "config": "ConfigMagics",
        "connect_info": "KernelMagics",
        "cp": "Other",
        "debug": "ExecutionMagics",
        "dhist": "OSMagics",
        "dirs": "OSMagics",
        "doctest_mode": "BasicMagics",
        "ed": "Other",
        "edit": "KernelMagics",
        "env": "OSMagics",
        "gui": "BasicMagics",
        "hist": "Other",
        "history": "HistoryMagics",
        "killbgscripts": "ScriptMagics",
        "ldir": "Other",
        "less": "KernelMagics",
        "lf": "Other",
        "lk": "Other",
        "ll": "Other",
        "load": "CodeMagics",
        "load_ext": "ExtensionMagics",
        "loadpy": "CodeMagics",
        "logoff": "LoggingMagics",
        "logon": "LoggingMagics",
        "logstart": "LoggingMagics",
        "logstate": "LoggingMagics",
        "logstop": "LoggingMagics",
        "ls": "Other",
        "lsmagic": "BasicMagics",
        "lx": "Other",
        "macro": "ExecutionMagics",
        "magic": "BasicMagics",
        "man": "KernelMagics",
        "matplotlib": "PylabMagics",
        "mkdir": "Other",
        "more": "KernelMagics",
        "mv": "Other",
        "notebook": "BasicMagics",
        "page": "BasicMagics",
        "pastebin": "CodeMagics",
        "pdb": "ExecutionMagics",
        "pdef": "NamespaceMagics",
        "pdoc": "NamespaceMagics",
        "pfile": "NamespaceMagics",
        "pinfo": "NamespaceMagics",
        "pinfo2": "NamespaceMagics",
        "pip": "PackagingMagics",
        "popd": "OSMagics",
        "pprint": "BasicMagics",
        "precision": "BasicMagics",
        "prun": "ExecutionMagics",
        "psearch": "NamespaceMagics",
        "psource": "NamespaceMagics",
        "pushd": "OSMagics",
        "pwd": "OSMagics",
        "pycat": "OSMagics",
        "pylab": "PylabMagics",
        "qtconsole": "KernelMagics",
        "quickref": "BasicMagics",
        "recall": "HistoryMagics",
        "rehashx": "OSMagics",
        "reload_ext": "ExtensionMagics",
        "rep": "Other",
        "rerun": "HistoryMagics",
        "reset": "NamespaceMagics",
        "reset_selective": "NamespaceMagics",
        "rm": "Other",
        "rmdir": "Other",
        "run": "ExecutionMagics",
        "save": "CodeMagics",
        "sc": "OSMagics",
        "set_env": "OSMagics",
        "store": "StoreMagics",
        "sx": "OSMagics",
        "system": "OSMagics",
        "tb": "ExecutionMagics",
        "time": "ExecutionMagics",
        "timeit": "ExecutionMagics",
        "unalias": "OSMagics",
        "unload_ext": "ExtensionMagics",
        "who": "NamespaceMagics",
        "who_ls": "NamespaceMagics",
        "whos": "NamespaceMagics",
        "xdel": "NamespaceMagics",
        "xmode": "BasicMagics"
       }
      },
      "text/plain": [
       "Available line magics:\n",
       "%alias  %alias_magic  %autoawait  %autocall  %automagic  %autosave  %bookmark  %cat  %cd  %clear  %colors  %conda  %config  %connect_info  %cp  %debug  %dhist  %dirs  %doctest_mode  %ed  %edit  %env  %gui  %hist  %history  %killbgscripts  %ldir  %less  %lf  %lk  %ll  %load  %load_ext  %loadpy  %logoff  %logon  %logstart  %logstate  %logstop  %ls  %lsmagic  %lx  %macro  %magic  %man  %matplotlib  %mkdir  %more  %mv  %notebook  %page  %pastebin  %pdb  %pdef  %pdoc  %pfile  %pinfo  %pinfo2  %pip  %popd  %pprint  %precision  %prun  %psearch  %psource  %pushd  %pwd  %pycat  %pylab  %qtconsole  %quickref  %recall  %rehashx  %reload_ext  %rep  %rerun  %reset  %reset_selective  %rm  %rmdir  %run  %save  %sc  %set_env  %store  %sx  %system  %tb  %time  %timeit  %unalias  %unload_ext  %who  %who_ls  %whos  %xdel  %xmode\n",
       "\n",
       "Available cell magics:\n",
       "%%!  %%HTML  %%SVG  %%bash  %%capture  %%debug  %%file  %%html  %%javascript  %%js  %%latex  %%markdown  %%perl  %%prun  %%pypy  %%python  %%python2  %%python3  %%ruby  %%script  %%sh  %%svg  %%sx  %%system  %%time  %%timeit  %%writefile\n",
       "\n",
       "Automagic is ON, % prefix IS NOT needed for line magics."
      ]
     },
     "execution_count": 1,
     "metadata": {},
     "output_type": "execute_result"
    }
   ],
   "source": [
    "%lsmagic"
   ]
  },
  {
   "cell_type": "markdown",
   "metadata": {},
   "source": [
    "## Getting help"
   ]
  },
  {
   "cell_type": "code",
   "execution_count": 2,
   "metadata": {},
   "outputs": [],
   "source": [
    "%alias?"
   ]
  },
  {
   "cell_type": "markdown",
   "metadata": {},
   "source": [
    "## Timing things!"
   ]
  },
  {
   "cell_type": "code",
   "execution_count": null,
   "metadata": {},
   "outputs": [],
   "source": [
    "One of the available magics allows you to run benchmarks. To see how this works, we'll time Python's execution of the `pass` command (which does nothing, literally). "
   ]
  },
  {
   "cell_type": "code",
   "execution_count": 3,
   "metadata": {},
   "outputs": [
    {
     "name": "stdout",
     "output_type": "stream",
     "text": [
      "7.32 ns ± 0.267 ns per loop (mean ± std. dev. of 7 runs, 100000000 loops each)\n"
     ]
    }
   ],
   "source": [
    "%timeit pass"
   ]
  },
  {
   "cell_type": "markdown",
   "metadata": {},
   "source": [
    "Python allows you to store the output to a variable by passing the `-o` flag. The `-n` flag controls how many loops are done on each of the 3 repetitions. See documentation for more options."
   ]
  },
  {
   "cell_type": "code",
   "execution_count": 4,
   "metadata": {},
   "outputs": [
    {
     "name": "stdout",
     "output_type": "stream",
     "text": [
      "13.3 ns ± 1.28 ns per loop (mean ± std. dev. of 7 runs, 100 loops each)\n"
     ]
    }
   ],
   "source": [
    "timeitResult = %timeit -n100 -o x=3"
   ]
  },
  {
   "cell_type": "markdown",
   "metadata": {},
   "source": [
    "We can benchmark the reduce function `numpy` to see which can add more quickly. We'll do this here because `reduce` *may* appear again later, below. "
   ]
  },
  {
   "cell_type": "markdown",
   "metadata": {},
   "source": [
    "## More Magics"
   ]
  },
  {
   "cell_type": "markdown",
   "metadata": {},
   "source": [
    "Run `bash` commands using an '!'"
   ]
  },
  {
   "cell_type": "code",
   "execution_count": 14,
   "metadata": {},
   "outputs": [
    {
     "name": "stdout",
     "output_type": "stream",
     "text": [
      "jupyter_introduction.ipynb  README.md  Utilities\r\n",
      "nbpuller-example1.ipynb     temp.file\r\n"
     ]
    }
   ],
   "source": [
    "!ls"
   ]
  },
  {
   "cell_type": "markdown",
   "metadata": {},
   "source": [
    "We can even save them to a variable."
   ]
  },
  {
   "cell_type": "code",
   "execution_count": 15,
   "metadata": {},
   "outputs": [],
   "source": [
    "my_ls_result = !ls"
   ]
  },
  {
   "cell_type": "code",
   "execution_count": 16,
   "metadata": {},
   "outputs": [
    {
     "name": "stdout",
     "output_type": "stream",
     "text": [
      "['jupyter_introduction.ipynb', 'nbpuller-example1.ipynb', 'README.md', 'temp.file', 'Utilities']\n"
     ]
    }
   ],
   "source": [
    "print(my_ls_result)"
   ]
  },
  {
   "cell_type": "markdown",
   "metadata": {},
   "source": [
    "Load files using the `%load` magic.  \n",
    "**Note:** Python will produce an error if the file does not exist (obviously). "
   ]
  },
  {
   "cell_type": "code",
   "execution_count": null,
   "metadata": {},
   "outputs": [],
   "source": [
    "# %load README.md\n",
    "# PIMS CRG Summer School: Deep Learning for Computational Mathematics\n",
    "\n",
    "Welcome to the GitHub repository for the summer 2019 school on [Deep Learning for Computational Mathematics](http://www.pims.math.ca/scientific-event/190722-pcssdlcm). In this repository, you will find all of the necessary files for the Monday, Tuesday, and Wednesday tutorials that accompany this summer school. \n",
    "\n",
    "The purpose of this summer school is to introduce students in applied and computational mathematics to neural networks and deep learning. It will feature three days of lectures and hands-on tutorials, and be followed by a one-day workshop showcasing current research directions and applications, in particular those relating to computational science and engineering. Lectures will cover the foundational mathematics of deep learning, and the tutorials will expose students to their practical implementation in standard software (TensorFlow) on a variety of tasks, including image classification, function approximation, and restoration/superresolution.\n",
    "\n",
    "This workshop is aimed at students in applied mathematics or related areas. It assumes no prior knowledge of neural networks. Experience in calculus, linear algebra and analysis and numerical analysis are essential.\n",
    "\n",
    "<!---To check out this repository into your home directory on [https://hdda2019.syzygy.ca/jupyter](https://hdda2019.syzygy.ca/jupyter), please click the following [link](https://hdda2019.syzygy.ca/jupyter/user-redirect/git-pull?repo=https://github.com/ndexter/DLforCompMath).--->\n",
    "\n",
    "\n",
    "## SCHEDULE\n",
    "\n",
    "### Monday - Tutorial 1: \"Introduction to Neural Networks with tensorflow\"\n",
    "\n",
    "Monday's tutorial will focus on basics of using the jupyter hub interface, commands exposed to the user through magic keywords, python and software packages for data science, and conclude with a simple model of function approximation using Google's tensorflow software package.\n",
    "\n",
    "<!--- - 10:00 am - 11:00 am: Lecture - \"Introduction to Neural Networks”\n",
    "- 11:00 am - 11:30 am: Coffee break\n",
    "- 11:30 am - 12:30 pm: Lecture - “Introduction to Neural Networks, continued”\n",
    "- 12:30 pm - 01:30 pm: Lunch break --->\n",
    "- 01:30 pm - 03:00 pm: Tutorial - “Introduction to Neural Networks with tensorflow”\n",
    "- 03:00 pm - 03:30 pm: Coffee break\n",
    "- 03:30 pm - 05:00 pm: Tutorial - “Introduction to Neural Networks with tensorflow, continued”\n",
    "\n",
    "### Tuesday - Tutorial 2: \"Data-driven Modelling with tensorflow, Part I\"\n",
    "\n",
    "Tuesday's tutorial will provide hands-on experience with some of the more complicated aspects of deep learning, as featured in the lectures. The goal of today's session is to reinforce some of the concepts and related challenges covered in today's lectures through several examples of applying deep learning for tasks in data science.\n",
    "\n",
    "<!--- - 10:00 am - 11:00 am: Lecture - “From Neural Networks to Deep Learning”\n",
    "- 11:00 am - 11:30 am: Coffee break\n",
    "- 11:30 am - 12:30 pm: Lecture - “From Neural Networks to Deep Learning, continued”\n",
    "- 12:30 pm - 01:30 pm: Lunch break --->\n",
    "- 01:30 pm - 03:00 pm: Tutorial - “Data-driven Modelling with tensorflow, Part I”\n",
    "- 03:00 pm - 03:30 pm: Coffee break\n",
    "- 03:30 pm - 05:00 pm: Tutorial - “Data-driven Modelling with tensorflow, Part I, continued”\n",
    "\n",
    "### Wednesday - Tutorial 3: \"Data-driven Modelling with tensorflow, Part II\"\n",
    "\n",
    "Wednesday's tutorials will continue with the theme of Tuesdays, covering some of the more interesting aspects of approximation with deep neural networks, issues with convergence, and methods of regularization.\n",
    "\n",
    "<!--- - 10:00 am - 11:00 am: Lecture - “Approximation Theory for Neural Networks”\n",
    "- 11:00 am - 11:30 am: Coffee break\n",
    "- 11:30 am - 12:30 pm: Lecture - “Approximation Theory for Neural Networks, continued”\n",
    "- 12:30 pm - 01:30 pm: Lunch break --->\n",
    "- 01:30 pm - 03:00 pm: Tutorial - “Data-driven Modelling with tensorflow, Part II”\n",
    "- 03:00 pm - 03:30 pm: Coffee break\n",
    "- 03:30 pm - 05:00 pm: Tutorial - “Data-driven Modelling with tensorflow, Part II, continued\"\n",
    "\n",
    "### Thursday July 25 - Mini-workshop: Deep Learning\n",
    "\n",
    "Confrimed Speakers\n",
    "\n",
    "Talk 1 - Max Libbrecht (SFU), Understanding human gene regulation using deep neural networks.\n",
    "\n",
    "Talk 2 - Paul Tupper (SFU), Which Learning Algorithms Can Generalize Identity Effects to Novel Inputs?\n",
    "\n",
    "Talk 3 - Aaron Berk (UBC), A deep learning approach to retinal fundus imaging.\n",
    "\n",
    "Talk 4 - Ben Adcock (SFU), Instabilities in deep learning.\n",
    "\n",
    "- 09:30 am - 10:15 am: Talk 1\n",
    "- 10:15 am - 10:45 am: Coffee break\n",
    "- 10:45 am - 11:30 am: Talk 2\n",
    "- 11:30 am - 01:45 pm: Lunch break\n",
    "- 01:45 pm - 02:30 pm: Talk 4\n",
    "- 02:30 pm - 03:15 pm: Talk 5\n"
   ]
  },
  {
   "cell_type": "markdown",
   "metadata": {},
   "source": [
    "Run a cell as a `bash` script by using the `%%bash` magic. Useful if you need to `awk` or `sed` something without leaving the comfort of Jupyter."
   ]
  },
  {
   "cell_type": "code",
   "execution_count": 18,
   "metadata": {},
   "outputs": [
    {
     "name": "stdout",
     "output_type": "stream",
     "text": [
      "a\n",
      "b\n",
      "c\n"
     ]
    }
   ],
   "source": [
    "%%bash\n",
    "for i in a b c;\n",
    "do\n",
    "echo $i\n",
    "done"
   ]
  },
  {
   "cell_type": "markdown",
   "metadata": {},
   "source": [
    "# Coding basics and Pythonic programming"
   ]
  },
  {
   "cell_type": "markdown",
   "metadata": {},
   "source": [
    "## Classes in Python"
   ]
  },
  {
   "cell_type": "markdown",
   "metadata": {},
   "source": [
    "Classes in Python are pretty similar to classes in other languages. Key differences: no private/public variables; definition of classes is slightly different than in other languages: `__init__` instead of `main`."
   ]
  },
  {
   "cell_type": "code",
   "execution_count": 19,
   "metadata": {},
   "outputs": [],
   "source": [
    "class MyNewClass:\n",
    "    def __init__(self, x):\n",
    "        self.x = x\n",
    "    def helper1():\n",
    "        print('World!')\n",
    "    def helper2(self):\n",
    "        print('Hello')\n",
    "    def class_method(self):\n",
    "        \"\"\"\n",
    "        class method for MyNewClass\n",
    "        \"\"\"\n",
    "        MyNewClass.helper1()\n",
    "        self.helper2()"
   ]
  },
  {
   "cell_type": "code",
   "execution_count": 20,
   "metadata": {},
   "outputs": [],
   "source": [
    "myvar = MyNewClass(3)"
   ]
  },
  {
   "cell_type": "code",
   "execution_count": 21,
   "metadata": {},
   "outputs": [
    {
     "data": {
      "text/plain": [
       "3"
      ]
     },
     "execution_count": 21,
     "metadata": {},
     "output_type": "execute_result"
    }
   ],
   "source": [
    "myvar.x"
   ]
  },
  {
   "cell_type": "code",
   "execution_count": 22,
   "metadata": {},
   "outputs": [
    {
     "name": "stdout",
     "output_type": "stream",
     "text": [
      "helper1 is not an instance method\n"
     ]
    }
   ],
   "source": [
    "try:\n",
    "    myvar.helper1()\n",
    "except:\n",
    "    print('helper1 is not an instance method')"
   ]
  },
  {
   "cell_type": "code",
   "execution_count": 23,
   "metadata": {},
   "outputs": [
    {
     "name": "stdout",
     "output_type": "stream",
     "text": [
      "World!\n"
     ]
    }
   ],
   "source": [
    "try:\n",
    "    MyNewClass.helper1()\n",
    "except:\n",
    "    print('helper1 is not a class method')"
   ]
  },
  {
   "cell_type": "code",
   "execution_count": 24,
   "metadata": {},
   "outputs": [
    {
     "name": "stdout",
     "output_type": "stream",
     "text": [
      "Hello\n"
     ]
    }
   ],
   "source": [
    "try:\n",
    "    myvar.helper2()\n",
    "except:\n",
    "    print('helper2 is not an instance method')"
   ]
  },
  {
   "cell_type": "code",
   "execution_count": 25,
   "metadata": {},
   "outputs": [
    {
     "name": "stdout",
     "output_type": "stream",
     "text": [
      "helper2 is not a class method\n"
     ]
    }
   ],
   "source": [
    "try:\n",
    "    MyNewClass.helper2()\n",
    "except:\n",
    "    print('helper2 is not a class method')"
   ]
  },
  {
   "cell_type": "code",
   "execution_count": 26,
   "metadata": {},
   "outputs": [
    {
     "name": "stdout",
     "output_type": "stream",
     "text": [
      "World!\n",
      "Hello\n"
     ]
    }
   ],
   "source": [
    "myvar.class_method()"
   ]
  },
  {
   "cell_type": "markdown",
   "metadata": {},
   "source": [
    "## Generators\n",
    "\n",
    "What are generators? In Python3, generators are a way of mimicking lazy evaluation (actually they are not lazy evaluation and there's a good reason for that...) You can create a generator in Python using a special syntax between any kind of braces that your heart desires (except angle brackets; no love for angle brackets :<). \n",
    "\n",
    "Contrary to what I said in person, `range` does not return a generator/iterator object. "
   ]
  },
  {
   "cell_type": "markdown",
   "metadata": {},
   "source": [
    "### Simple generator"
   ]
  },
  {
   "cell_type": "code",
   "execution_count": 27,
   "metadata": {},
   "outputs": [],
   "source": [
    "my_first_generator = (j for j in range(10))"
   ]
  },
  {
   "cell_type": "code",
   "execution_count": 28,
   "metadata": {},
   "outputs": [
    {
     "data": {
      "text/plain": [
       "<generator object <genexpr> at 0x7f17f0100b88>"
      ]
     },
     "execution_count": 28,
     "metadata": {},
     "output_type": "execute_result"
    }
   ],
   "source": [
    "my_first_generator"
   ]
  },
  {
   "cell_type": "code",
   "execution_count": 29,
   "metadata": {},
   "outputs": [
    {
     "data": {
      "text/plain": [
       "0"
      ]
     },
     "execution_count": 29,
     "metadata": {},
     "output_type": "execute_result"
    }
   ],
   "source": [
    "next(my_first_generator)"
   ]
  },
  {
   "cell_type": "code",
   "execution_count": 30,
   "metadata": {},
   "outputs": [
    {
     "data": {
      "text/plain": [
       "1"
      ]
     },
     "execution_count": 30,
     "metadata": {},
     "output_type": "execute_result"
    }
   ],
   "source": [
    "next(my_first_generator)"
   ]
  },
  {
   "cell_type": "markdown",
   "metadata": {},
   "source": [
    "### More interesting"
   ]
  },
  {
   "cell_type": "code",
   "execution_count": 31,
   "metadata": {},
   "outputs": [],
   "source": [
    "list_with_repeats = [1,2,4,7,4,6,5,4,3,2,2,2,1]"
   ]
  },
  {
   "cell_type": "code",
   "execution_count": 32,
   "metadata": {},
   "outputs": [
    {
     "data": {
      "text/plain": [
       "2"
      ]
     },
     "execution_count": 32,
     "metadata": {},
     "output_type": "execute_result"
    }
   ],
   "source": [
    "next(j for j in range(len(list_with_repeats)) if list_with_repeats[j] == 4)"
   ]
  },
  {
   "cell_type": "code",
   "execution_count": 33,
   "metadata": {},
   "outputs": [
    {
     "data": {
      "text/plain": [
       "2"
      ]
     },
     "execution_count": 33,
     "metadata": {},
     "output_type": "execute_result"
    }
   ],
   "source": [
    "next(j for j,x in enumerate(list_with_repeats) if x == 4)"
   ]
  },
  {
   "cell_type": "markdown",
   "metadata": {},
   "source": [
    "But the above code is not very \"pythonic\" -- there's a simpler way to express the same thing using basic python commands. "
   ]
  },
  {
   "cell_type": "code",
   "execution_count": 34,
   "metadata": {},
   "outputs": [
    {
     "data": {
      "text/plain": [
       "2"
      ]
     },
     "execution_count": 34,
     "metadata": {},
     "output_type": "execute_result"
    }
   ],
   "source": [
    "list_with_repeats.index(4)"
   ]
  },
  {
   "cell_type": "markdown",
   "metadata": {},
   "source": [
    "# Running stuff quickly\n",
    "\n",
    "In this section we'll present a brief overview of running stuff more quickly by adapting our own code rather than by looking to more powerful packages."
   ]
  },
  {
   "cell_type": "markdown",
   "metadata": {},
   "source": [
    "## Fast(er) norm computations"
   ]
  },
  {
   "cell_type": "markdown",
   "metadata": {},
   "source": [
    "Step one for faster computations: be sure to compute things in an energy- and memory-minimal way. There are three good options below, and one terrible option."
   ]
  },
  {
   "cell_type": "code",
   "execution_count": 35,
   "metadata": {},
   "outputs": [],
   "source": [
    "import numpy as np\n",
    "N = int(1e5)\n",
    "w = np.random.randn(N, 1)"
   ]
  },
  {
   "cell_type": "code",
   "execution_count": 36,
   "metadata": {},
   "outputs": [
    {
     "name": "stdout",
     "output_type": "stream",
     "text": [
      "The slowest run took 7.87 times longer than the fastest. This could mean that an intermediate result is being cached.\n",
      "94.1 µs ± 44.9 µs per loop (mean ± std. dev. of 5 runs, 1000 loops each)\n"
     ]
    }
   ],
   "source": [
    "t_wdot = %timeit -r5 -n1000 -o np.dot(w.T, w)"
   ]
  },
  {
   "cell_type": "code",
   "execution_count": 37,
   "metadata": {},
   "outputs": [
    {
     "name": "stdout",
     "output_type": "stream",
     "text": [
      "The slowest run took 7.56 times longer than the fastest. This could mean that an intermediate result is being cached.\n",
      "98.7 µs ± 48.7 µs per loop (mean ± std. dev. of 5 runs, 1000 loops each)\n"
     ]
    }
   ],
   "source": [
    "t_atsymb = %timeit -r5 -n1000 -o w.T @ w"
   ]
  },
  {
   "cell_type": "code",
   "execution_count": 38,
   "metadata": {},
   "outputs": [
    {
     "name": "stdout",
     "output_type": "stream",
     "text": [
      "112 µs ± 1.39 µs per loop (mean ± std. dev. of 5 runs, 1000 loops each)\n"
     ]
    }
   ],
   "source": [
    "t_sumsq = %timeit -r5 -n1000 -o (w**2).sum()"
   ]
  },
  {
   "cell_type": "code",
   "execution_count": 39,
   "metadata": {},
   "outputs": [
    {
     "name": "stdout",
     "output_type": "stream",
     "text": [
      "124 µs ± 31.4 µs per loop (mean ± std. dev. of 5 runs, 1000 loops each)\n"
     ]
    }
   ],
   "source": [
    "t_linalg = %timeit -r5 -n1000 -o np.linalg.norm(w)"
   ]
  },
  {
   "cell_type": "markdown",
   "metadata": {},
   "source": [
    "## Fast(er) function evaluations\n",
    "\n",
    "Similarly, there's a terrible way of normalizing a vector and a less terrible way of normalizing a vector. Implicit array copying is a nuisance — try to avoid it, and instead aim for preallocated memory. "
   ]
  },
  {
   "cell_type": "code",
   "execution_count": 40,
   "metadata": {},
   "outputs": [],
   "source": [
    "def normalize_vector_1(v):\n",
    "    v /= np.linalg.norm(v)\n",
    "    return v\n",
    "def normalize_vector_2(v):\n",
    "    v = v/np.linalg.norm(v)\n",
    "    return v\n",
    "def normalize_vector_3(v):\n",
    "    return v/np.linalg.norm(v)"
   ]
  },
  {
   "cell_type": "code",
   "execution_count": 41,
   "metadata": {},
   "outputs": [
    {
     "name": "stdout",
     "output_type": "stream",
     "text": [
      "944 µs ± 46.4 µs per loop (mean ± std. dev. of 7 runs, 1000 loops each)\n"
     ]
    }
   ],
   "source": [
    "%%timeit v = np.random.randn(100000)\n",
    "normalize_vector_1(v)"
   ]
  },
  {
   "cell_type": "code",
   "execution_count": 42,
   "metadata": {},
   "outputs": [
    {
     "name": "stdout",
     "output_type": "stream",
     "text": [
      "941 µs ± 39.6 µs per loop (mean ± std. dev. of 7 runs, 1000 loops each)\n"
     ]
    }
   ],
   "source": [
    "%%timeit v = np.random.randn(100000)\n",
    "normalize_vector_2(v)"
   ]
  },
  {
   "cell_type": "code",
   "execution_count": 43,
   "metadata": {},
   "outputs": [
    {
     "name": "stdout",
     "output_type": "stream",
     "text": [
      "1.27 ms ± 199 µs per loop (mean ± std. dev. of 7 runs, 1000 loops each)\n"
     ]
    }
   ],
   "source": [
    "%%timeit v = np.random.randn(100000)\n",
    "normalize_vector_3(v)"
   ]
  },
  {
   "cell_type": "markdown",
   "metadata": {},
   "source": [
    "In this case, implicit array copying causes a factor-of-2 slow-down."
   ]
  },
  {
   "cell_type": "markdown",
   "metadata": {},
   "source": [
    "## Choose the right function!"
   ]
  },
  {
   "cell_type": "markdown",
   "metadata": {},
   "source": [
    "### The `reduce` function"
   ]
  },
  {
   "cell_type": "markdown",
   "metadata": {},
   "source": [
    "The reduce function allows you to apply a function consecutively to the result and the next element in a list. That is, given $f : S\\times S \\to S$ sending $(a,b) \\mapsto c$, we have  \n",
    "`reduce(f, [x1, x2, x3, x4]) = f(f(f(x1, x2), x3), x4)`"
   ]
  },
  {
   "cell_type": "code",
   "execution_count": 44,
   "metadata": {},
   "outputs": [],
   "source": [
    "from functools import reduce"
   ]
  },
  {
   "cell_type": "code",
   "execution_count": 45,
   "metadata": {},
   "outputs": [],
   "source": [
    "def addstuff(a,b):\n",
    "    return a+b"
   ]
  },
  {
   "cell_type": "code",
   "execution_count": 46,
   "metadata": {},
   "outputs": [
    {
     "data": {
      "text/plain": [
       "6"
      ]
     },
     "execution_count": 46,
     "metadata": {},
     "output_type": "execute_result"
    }
   ],
   "source": [
    "reduce(addstuff, [1,2,3])"
   ]
  },
  {
   "cell_type": "markdown",
   "metadata": {},
   "source": [
    "### Performance of `reduce` *vs.* `sum`"
   ]
  },
  {
   "cell_type": "markdown",
   "metadata": {},
   "source": [
    "Sometimes there are better options, but sometimes `reduce` is the right choice. This is an example of when `reduce` is not the right option. "
   ]
  },
  {
   "cell_type": "code",
   "execution_count": 47,
   "metadata": {},
   "outputs": [
    {
     "name": "stdout",
     "output_type": "stream",
     "text": [
      "93 µs ± 978 ns per loop (mean ± std. dev. of 5 runs, 1000 loops each)\n"
     ]
    }
   ],
   "source": [
    "%timeit -n1000 -r5 reduce(lambda x,y: x+y, range(1000))"
   ]
  },
  {
   "cell_type": "code",
   "execution_count": 48,
   "metadata": {},
   "outputs": [
    {
     "name": "stdout",
     "output_type": "stream",
     "text": [
      "16.5 µs ± 1.24 µs per loop (mean ± std. dev. of 5 runs, 1000 loops each)\n"
     ]
    }
   ],
   "source": [
    "%timeit -n1000 -r5 sum(range(1000))"
   ]
  },
  {
   "cell_type": "markdown",
   "metadata": {},
   "source": [
    "### Take-home\n",
    "\n",
    "`reduce` is obviously more general, but not appropriate in this case, because clever people have written much more specific code to perform the sum of $N$ elements much more quickly. \n",
    "\n",
    "`reduce` *might* be the right option when it is likely that someone has not already created a fast method for performing a given function many times consecutively. "
   ]
  },
  {
   "cell_type": "markdown",
   "metadata": {},
   "source": [
    "# Fast Computations in Python with Numba, Cython, etc."
   ]
  },
  {
   "cell_type": "markdown",
   "metadata": {},
   "source": [
    "There's a number of a packages/tools in Python that allow you to speed up your existing code. We'll only have time to see one of them. But visit the other document for lots of sample code. "
   ]
  },
  {
   "cell_type": "markdown",
   "metadata": {},
   "source": [
    "## Set up for the example"
   ]
  },
  {
   "cell_type": "code",
   "execution_count": 49,
   "metadata": {},
   "outputs": [
    {
     "name": "stdout",
     "output_type": "stream",
     "text": [
      "Once deleted, variables cannot be recovered. Proceed (y/[n])? y\n"
     ]
    },
    {
     "name": "stderr",
     "output_type": "stream",
     "text": [
      "ERROR:root:Invalid alias: The name clear can't be aliased because it is another magic command.\n",
      "ERROR:root:Invalid alias: The name more can't be aliased because it is another magic command.\n",
      "ERROR:root:Invalid alias: The name less can't be aliased because it is another magic command.\n",
      "ERROR:root:Invalid alias: The name man can't be aliased because it is another magic command.\n"
     ]
    }
   ],
   "source": [
    "%reset"
   ]
  },
  {
   "cell_type": "code",
   "execution_count": 57,
   "metadata": {},
   "outputs": [],
   "source": [
    "import numpy as np"
   ]
  },
  {
   "cell_type": "code",
   "execution_count": 58,
   "metadata": {},
   "outputs": [],
   "source": [
    "size = 200\n",
    "iterations = 100"
   ]
  },
  {
   "cell_type": "code",
   "execution_count": 59,
   "metadata": {},
   "outputs": [],
   "source": [
    "def mandelbrot_python(m, size, iterations):\n",
    "    for i in range(size):\n",
    "        for j in range(size):\n",
    "            c = -2 + 3./size*j + 1j*(1.5 - 3./size*i)\n",
    "            z = 0\n",
    "            for n in range(iterations):\n",
    "                if np.abs(z) <= 10:\n",
    "                    z = z*z + c\n",
    "                    m[i, j] = n\n",
    "                else:\n",
    "                    break"
   ]
  },
  {
   "cell_type": "code",
   "execution_count": 60,
   "metadata": {},
   "outputs": [],
   "source": [
    "m = np.zeros((size, size))"
   ]
  },
  {
   "cell_type": "code",
   "execution_count": 61,
   "metadata": {},
   "outputs": [],
   "source": [
    "mandelbrot_python(m, size, iterations)"
   ]
  },
  {
   "cell_type": "code",
   "execution_count": 62,
   "metadata": {},
   "outputs": [
    {
     "data": {
      "image/png": "[encoded data removed]",
      "text/plain": [
       "<Figure size 432x288 with 1 Axes>"
      ]
     },
     "metadata": {},
     "output_type": "display_data"
    }
   ],
   "source": [
    "import matplotlib.pyplot as plt\n",
    "%matplotlib inline\n",
    "plt.imshow(np.log(m), cmap=plt.cm.hot)\n",
    "plt.xticks([]); plt.yticks([]);"
   ]
  },
  {
   "cell_type": "code",
   "execution_count": 63,
   "metadata": {},
   "outputs": [
    {
     "name": "stdout",
     "output_type": "stream",
     "text": [
      "1.56 s ± 37.1 ms per loop (mean ± std. dev. of 7 runs, 1 loop each)\n"
     ]
    }
   ],
   "source": [
    "%%timeit m = np.zeros((size, size))\n",
    "mandelbrot_python(m, size, iterations)"
   ]
  },
  {
   "cell_type": "markdown",
   "metadata": {},
   "source": [
    "## Numba version"
   ]
  },
  {
   "cell_type": "markdown",
   "metadata": {},
   "source": [
    "Numba allows for just-in-time compilation of functions. Very much quickens certain types of function calls. Pretty easy to use. Simply apply the decorator and proceed to benchmarking!"
   ]
  },
  {
   "cell_type": "code",
   "execution_count": 64,
   "metadata": {},
   "outputs": [],
   "source": [
    "import numba\n",
    "from numba import jit, complex128"
   ]
  },
  {
   "cell_type": "code",
   "execution_count": 65,
   "metadata": {},
   "outputs": [],
   "source": [
    "@jit(locals=dict(c=complex128, z=complex128))\n",
    "def mandelbrot_numba(m, size, iterations):\n",
    "    for i in range(size):\n",
    "        for j in range(size):\n",
    "            c = -2 + 3./size*j + 1j*(1.5 - 3./size*i)\n",
    "            z = 0\n",
    "            for n in range(iterations):\n",
    "                if np.abs(z) <= 10:\n",
    "                    z = z*z + c\n",
    "                    m[i, j] = n\n",
    "                else:\n",
    "                    break"
   ]
  },
  {
   "cell_type": "code",
   "execution_count": 66,
   "metadata": {},
   "outputs": [],
   "source": [
    "m = np.zeros((size, size))\n",
    "mandelbrot_numba(m, size, iterations)"
   ]
  },
  {
   "cell_type": "code",
   "execution_count": 67,
   "metadata": {},
   "outputs": [
    {
     "name": "stdout",
     "output_type": "stream",
     "text": [
      "11.1 ms ± 350 µs per loop (mean ± std. dev. of 7 runs, 100 loops each)\n"
     ]
    }
   ],
   "source": [
    "%%timeit m = np.zeros((size, size))\n",
    "mandelbrot_numba(m, size, iterations)"
   ]
  },
  {
   "cell_type": "code",
   "execution_count": 68,
   "metadata": {},
   "outputs": [
    {
     "ename": "SyntaxError",
     "evalue": "EOL while scanning string literal (<ipython-input-68-f78252d39705>, line 3)",
     "output_type": "error",
     "traceback": [
      "\u001b[0;36m  File \u001b[0;32m\"<ipython-input-68-f78252d39705>\"\u001b[0;36m, line \u001b[0;32m3\u001b[0m\n\u001b[0;31m    Today's lectures will introduce basics of tensorflow\u001b[0m\n\u001b[0m                                                        ^\u001b[0m\n\u001b[0;31mSyntaxError\u001b[0m\u001b[0;31m:\u001b[0m EOL while scanning string literal\n"
     ]
    }
   ],
   "source": [
    "## Tensorflow\n",
    "\n",
    "Today's lectures will introduce basics of tensorflow"
   ]
  },
  {
   "cell_type": "code",
   "execution_count": null,
   "metadata": {},
   "outputs": [],
   "source": []
  },
  {
   "cell_type": "code",
   "execution_count": null,
   "metadata": {},
   "outputs": [],
   "source": []
  },
  {
   "cell_type": "code",
   "execution_count": null,
   "metadata": {},
   "outputs": [],
   "source": []
  }
 ],
 "metadata": {
  "kernelspec": {
   "display_name": "Python 3",
   "language": "python",
   "name": "python3"
  },
  "language_info": {
   "codemirror_mode": {
    "name": "ipython",
    "version": 3
   },
   "file_extension": ".py",
   "mimetype": "text/x-python",
   "name": "python",
   "nbconvert_exporter": "python",
   "pygments_lexer": "ipython3",
   "version": "3.7.3"
  },
  "toc": {
   "nav_menu": {
    "height": "192px",
    "width": "252px"
   },
   "navigate_menu": true,
   "number_sections": true,
   "sideBar": true,
   "threshold": 4,
   "toc_cell": true,
   "toc_section_display": "block",
   "toc_window_display": false
  }
 },
 "nbformat": 4,
 "nbformat_minor": 1
}
