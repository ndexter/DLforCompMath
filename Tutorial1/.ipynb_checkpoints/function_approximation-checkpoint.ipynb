{
 "cells": [
  {
   "cell_type": "markdown",
   "metadata": {},
   "source": [
    "# Function Approximation\n",
    "\n",
    "Now let's try fitting some simple functions. For this problem, we will not use eager execution."
   ]
  },
  {
   "cell_type": "code",
   "execution_count": 21,
   "metadata": {},
   "outputs": [
    {
     "name": "stdout",
     "output_type": "stream",
     "text": [
      "Loaded TensorFlow version 1.13.1\n"
     ]
    }
   ],
   "source": [
    "import tensorflow as tf\n",
    "import numpy as np\n",
    "import matplotlib.pyplot as plt\n",
    "%matplotlib inline\n",
    "\n",
    "precision = tf.float32\n",
    "\n",
    "print('Loaded TensorFlow version ' + tf.__version__)"
   ]
  },
  {
   "cell_type": "markdown",
   "metadata": {},
   "source": [
    "Make some training and testing data"
   ]
  },
  {
   "cell_type": "code",
   "execution_count": 81,
   "metadata": {},
   "outputs": [
    {
     "name": "stdout",
     "output_type": "stream",
     "text": [
      "our training data and a piecewise linear interpolation of the data\n"
     ]
    },
    {
     "data": {
      "image/png": "[encoded data removed]",
      "text/plain": [
       "<Figure size 432x288 with 1 Axes>"
      ]
     },
     "metadata": {
      "needs_background": "light"
     },
     "output_type": "display_data"
    },
    {
     "name": "stdout",
     "output_type": "stream",
     "text": [
      "our testing data\n"
     ]
    },
    {
     "data": {
      "text/plain": [
       "<matplotlib.collections.PathCollection at 0x7fcdb412f4a8>"
      ]
     },
     "execution_count": 81,
     "metadata": {},
     "output_type": "execute_result"
    },
    {
     "data": {
      "image/png": "[encoded data removed]",
      "text/plain": [
       "<Figure size 432x288 with 1 Axes>"
      ]
     },
     "metadata": {
      "needs_background": "light"
     },
     "output_type": "display_data"
    }
   ],
   "source": [
    "# number of examples for training and testing\n",
    "num_train_pts = 50\n",
    "num_test_pts = 500\n",
    "\n",
    "# generate some linearly spaced points\n",
    "x_test = np.linspace(-1.0, 1.0, num = num_test_pts)\n",
    "\n",
    "# generate some uniform random samples\n",
    "x_train = np.random.uniform(-1.0,1.0,num_train_pts)\n",
    "\n",
    "# let's try to approximate y = log(sin(10x)+2) + sin(x)\n",
    "y_train = np.log(np.sin(10*x_train) + 2) + np.sin(x_train)\n",
    "y_test = np.log(np.sin(10*x_test) + 2) + np.sin(x_test)\n",
    "\n",
    "print('our training data and a piecewise linear interpolation of the data')\n",
    "plt.scatter(x_train,y_train)\n",
    "x_train_sorted = np.sort(x_train)\n",
    "\n",
    "indices = np.argsort(x_train)\n",
    "\n",
    "y_train_sorted = y_train[indices[::1]]\n",
    "\n",
    "y_interp = np.interp(x_test, x_train_sorted, y_train_sorted)\n",
    "plt.plot(x_test,y_interp)\n",
    "plt.show()\n",
    "\n",
    "print('our testing data')\n",
    "plt.scatter(x_test,y_test)"
   ]
  },
  {
   "cell_type": "markdown",
   "metadata": {},
   "source": [
    "### Building the graph\n",
    "\n",
    "Now let's build the computational graph"
   ]
  },
  {
   "cell_type": "code",
   "execution_count": 91,
   "metadata": {
    "scrolled": false
   },
   "outputs": [
    {
     "name": "stdout",
     "output_type": "stream",
     "text": [
      "[<tf.Variable 'Graph/FunctionApproximator/in_W:0' shape=(10, 1) dtype=float32_ref>, <tf.Variable 'Graph/FunctionApproximator/in_b:0' shape=(10, 1) dtype=float32_ref>, <tf.Variable 'Graph/FunctionApproximator/l0_W:0' shape=(10, 10) dtype=float32_ref>, <tf.Variable 'Graph/FunctionApproximator/l0_b:0' shape=(10, 1) dtype=float32_ref>, <tf.Variable 'Graph/FunctionApproximator/l1_W:0' shape=(10, 10) dtype=float32_ref>, <tf.Variable 'Graph/FunctionApproximator/l1_b:0' shape=(10, 1) dtype=float32_ref>, <tf.Variable 'Graph/FunctionApproximator/l2_W:0' shape=(10, 10) dtype=float32_ref>, <tf.Variable 'Graph/FunctionApproximator/l2_b:0' shape=(10, 1) dtype=float32_ref>, <tf.Variable 'Graph/FunctionApproximator/out_v:0' shape=(1, 10) dtype=float32_ref>]\n"
     ]
    }
   ],
   "source": [
    "hidden_dim = 10\n",
    "depth = 5\n",
    "input_dim = 1\n",
    "output_dim = 1\n",
    "batch_size = 20\n",
    "delta = 0.1\n",
    "epochs = 10000\n",
    "\n",
    "# resets the graph in case another graph exists\n",
    "tf.reset_default_graph()\n",
    "\n",
    "# setting the scope to \"Graph\"\n",
    "with tf.variable_scope('Graph') as scope:\n",
    "\n",
    "    x = tf.placeholder(precision, shape = [1, None], name = 'input')\n",
    "    y_true = tf.convert_to_tensor(y_train.reshape(1,num_train_pts), dtype = tf.float32)\n",
    "    \n",
    "    with tf.variable_scope('FunctionApproximator'):\n",
    "\n",
    "        # input layer description\n",
    "        in_W = tf.get_variable(name = 'in_W', shape = [hidden_dim, input_dim],\n",
    "                initializer = tf.random_normal_initializer(stddev = delta, dtype = precision),\n",
    "                dtype = precision)\n",
    "\n",
    "        in_b = tf.get_variable(name = 'in_b', shape = [hidden_dim, 1],\n",
    "                initializer = tf.random_normal_initializer(stddev = delta, dtype = precision), \n",
    "                dtype = precision)\n",
    "        \n",
    "        z = tf.nn.tanh(tf.matmul(in_W, x) + in_b)\n",
    "        \n",
    "        for layer in range(depth):\n",
    "            \n",
    "            W = tf.get_variable(name = 'l' + str(layer) + '_W', shape = [hidden_dim, hidden_dim],\n",
    "                                initializer = tf.random_normal_initializer(stddev = delta, dtype = precision),\n",
    "                                dtype = precision)\n",
    "\n",
    "            # biases for current layer\n",
    "            b = tf.get_variable(name = 'l' + str(layer) + '_b', shape = [hidden_dim, 1],\n",
    "                                initializer = tf.random_normal_initializer(stddev = delta, dtype = precision),\n",
    "                                dtype = precision)\n",
    "            \n",
    "            z = tf.nn.tanh(tf.matmul(W, z) + b)\n",
    "            \n",
    "        out_v = tf.get_variable(name = 'out_v', shape = [output_dim, hidden_dim],\n",
    "                 initializer = tf.random_normal_initializer(stddev = delta, dtype = precision), dtype = precision)\n",
    "        \n",
    "        y = tf.matmul(out_v, z, name = 'output')\n",
    "    \n",
    "    # loss function\n",
    "    with tf.variable_scope('Loss'):\n",
    "        # Mean squared error function\n",
    "        loss = tf.losses.mean_squared_error(y, y_true) #+ tf.nn.l2_loss()\n",
    "    \n",
    "    init_rate = 1e-3\n",
    "    lrn_rate = init_rate\n",
    "    #update_freq = 100\n",
    "    #base = np.exp(update_freq/args.nb_epochs*(np.log(error_tol)-np.log(init_rate)))\n",
    "    opt = tf.train.AdamOptimizer(learning_rate = lrn_rate)\n",
    "    train_op = opt.minimize(loss)\n",
    "    \n",
    "    print(tf.compat.v1.trainable_variables())"
   ]
  },
  {
   "cell_type": "markdown",
   "metadata": {},
   "source": [
    "Let's make a method which will split our data into batches"
   ]
  },
  {
   "cell_type": "code",
   "execution_count": 69,
   "metadata": {},
   "outputs": [],
   "source": [
    "def get_batch(X_in, Y_in, batch_size):\n",
    "    X_cols = X_in.shape[0]\n",
    "    Y_cols = Y_in.shape[0]\n",
    "\n",
    "    for i in range(X_in.shape[1]//batch_size):\n",
    "        idx = i*batch_size + np.random.randint(0,10,(1))[0]\n",
    "\n",
    "        yield X_in.take(range(idx,idx+batch_size), axis = 1, mode = 'wrap').reshape(X_cols,batch_size), \\\n",
    "              Y_in.take(range(idx,idx+batch_size), axis = 1, mode = 'wrap').reshape(Y_cols,batch_size)"
   ]
  },
  {
   "cell_type": "markdown",
   "metadata": {},
   "source": [
    "Now that we have our model, let's start a session"
   ]
  },
  {
   "cell_type": "code",
   "execution_count": 92,
   "metadata": {},
   "outputs": [
    {
     "name": "stdout",
     "output_type": "stream",
     "text": [
      "(50,)\n",
      "done\n"
     ]
    }
   ],
   "source": [
    "#lrn_rate = init_rate*(base)**(i/update_freq)\n",
    "\n",
    "losses = []\n",
    "\n",
    "print(np.shape(x_train))\n",
    "with tf.Session() as sess:\n",
    "    # init variables\n",
    "    sess.run(tf.global_variables_initializer())\n",
    "    \n",
    "    for i in range(epochs):\n",
    "        \n",
    "        current_loss, _ = sess.run([loss, train_op], feed_dict = {x: x_train.reshape(1,num_train_pts)})\n",
    "            \n",
    "#        for x_train_batch, y_true_train_batch in get_batch(x_train.reshape(1,num_train_pts), \n",
    "#                                                           y_train.reshape(1,num_train_pts), batch_size):\n",
    "#            current_loss, _ = sess.run([loss, train_op],\n",
    "#                                     feed_dict = {x: x_train_batch, \\\n",
    "#                                                  y_true: y_true_train_batch})\n",
    "\n",
    "        losses.append(current_loss)\n",
    "    \n",
    "    y_res = sess.run([y], feed_dict = {x: x_test.reshape(1,num_test_pts)})\n",
    "    \n",
    "print('done')"
   ]
  },
  {
   "cell_type": "code",
   "execution_count": 93,
   "metadata": {},
   "outputs": [
    {
     "name": "stdout",
     "output_type": "stream",
     "text": [
      "0.082532026\n"
     ]
    },
    {
     "data": {
      "image/png": "[encoded data removed]",
      "text/plain": [
       "<Figure size 432x288 with 1 Axes>"
      ]
     },
     "metadata": {
      "needs_background": "light"
     },
     "output_type": "display_data"
    },
    {
     "data": {
      "text/plain": [
       "[<matplotlib.lines.Line2D at 0x7fcd90359470>]"
      ]
     },
     "execution_count": 93,
     "metadata": {},
     "output_type": "execute_result"
    },
    {
     "data": {
      "image/png": "[encoded data removed]",
      "text/plain": [
       "<Figure size 432x288 with 1 Axes>"
      ]
     },
     "metadata": {
      "needs_background": "light"
     },
     "output_type": "display_data"
    }
   ],
   "source": [
    "y_NN = y_res[0]\n",
    "\n",
    "print(current_loss)\n",
    "#print(y_NN)\n",
    "#print(y_test)\n",
    "plt.plot(x_test,y_NN.reshape(num_test_pts,1))\n",
    "plt.plot(x_test,y_test)\n",
    "plt.show()\n",
    "\n",
    "x = range(epochs)\n",
    "\n",
    "plt.semilogy(x,losses)"
   ]
  },
  {
   "cell_type": "code",
   "execution_count": null,
   "metadata": {},
   "outputs": [],
   "source": []
  }
 ],
 "metadata": {
  "kernelspec": {
   "display_name": "Python 3",
   "language": "python",
   "name": "python3"
  },
  "language_info": {
   "codemirror_mode": {
    "name": "ipython",
    "version": 3
   },
   "file_extension": ".py",
   "mimetype": "text/x-python",
   "name": "python",
   "nbconvert_exporter": "python",
   "pygments_lexer": "ipython3",
   "version": "3.7.3"
  }
 },
 "nbformat": 4,
 "nbformat_minor": 2
}
