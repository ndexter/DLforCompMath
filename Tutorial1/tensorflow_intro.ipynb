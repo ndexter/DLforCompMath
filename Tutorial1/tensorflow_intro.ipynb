{
 "cells": [
  {
   "cell_type": "markdown",
   "metadata": {},
   "source": [
    "# Introduction to tensorflow\n",
    "\n",
    "This portion of the tutorial, we'll discuss basics of tensorflow in the context of some illustrative numerical examples.\n",
    "\n",
    "The first step is to import tensorflow and enable eager execution:"
   ]
  },
  {
   "cell_type": "code",
   "execution_count": 3,
   "metadata": {},
   "outputs": [
    {
     "name": "stdout",
     "output_type": "stream",
     "text": [
      "Loaded TensorFlow version 1.13.1\n"
     ]
    }
   ],
   "source": [
    "import tensorflow as tf\n",
    "import numpy as np\n",
    "\n",
    "tf.enable_eager_execution()\n",
    "\n",
    "tf.executing_eagerly()\n",
    "\n",
    "print('Loaded TensorFlow version ' + tf.__version__)"
   ]
  },
  {
   "cell_type": "markdown",
   "metadata": {},
   "source": [
    "After version 1.7, TensorFlow supports a new execution mode that is easier for use with the interactive python interpreter. Google describes its eager execution mode as \"an imperative programming environment that evaluates operations immediately, without building graphs: operations return concrete values instead of constructing a computational graph to run later.\"\n",
    "\n",
    "TensorFlow used to only support creating a graph first and only evaluating operations in the context of \"sessions.\"\n",
    "\n",
    "For example (this code constructs a computational graph, but does not initialize variables until Session is started):"
   ]
  },
  {
   "cell_type": "markdown",
   "metadata": {},
   "source": [
    "```\n",
    "import tensorflow as tf\n",
    "import numpy as np\n",
    "\n",
    "dim1 = 1\n",
    "dim2 = 1\n",
    "sigma = 0.1\n",
    "precision = tf.float32\n",
    "rho = tf.nn.relu\n",
    "layers = 3\n",
    "\n",
    "# placeholders are not compatibe with TF's eager execution mode\n",
    "x = tf.placeholder(precision, shape = [dim1, None], name = 'input')\n",
    "\n",
    "with tf.variable_scope('Model'):\n",
    "\n",
    "    # input layer\n",
    "    in_W = tf.get_variable(name = 'in_W', shape = [dim2, dim1],\n",
    "            initializer = tf.random_normal_initializer(stddev = sigma, dtype = precision), \n",
    "            dtype = precision)\n",
    "\n",
    "    in_b = tf.get_variable(name = 'in_b', shape = [dim2, 1],\n",
    "            initializer = tf.random_normal_initializer(stddev = sigma, dtype = precision), \n",
    "            dtype = precision)\n",
    "    \n",
    "    x = rho(tf.matmul(in_W, x) + in_b)\n",
    "    \n",
    "    # build\n",
    "    for layer in range(layers):\n",
    "\n",
    "        W = tf.get_variable(name = 'l' + str(layer) + '_W', shape = [dim1, dim2],\n",
    "                initializer = tf.random_normal_initializer(stddev = sigma, dtype = precision), \n",
    "                dtype = precision)\n",
    "\n",
    "        b = tf.get_variable(name = 'l' + str(layer) + '_b', shape = [dim2, 1],\n",
    "                initializer = tf.random_normal_initializer(stddev = sigma, dtype = precision), \n",
    "                dtype = precision)\n",
    "    \n",
    "        x = rho(tf.matmul(W, x) + b)\n",
    "        \n",
    "    # output layer description\n",
    "    out_v = tf.get_variable(name = 'out_v', shape = [dim1, dim2],\n",
    "         initializer = tf.random_normal_initializer(stddev = sigma, dtype = precision), \n",
    "         dtype = precision)\n",
    "    \n",
    "    x = tf.matmul(out_v, x, name = 'output')\n",
    "\n",
    "with tf.Session() as sess:\n",
    "    \n",
    "    # variables such as weights and biases are not actually initialized until here\n",
    "    sess.run(tf.global_variables_initializer())\n",
    "    \n",
    "```"
   ]
  },
  {
   "cell_type": "markdown",
   "metadata": {},
   "source": [
    "## Basic operations\n",
    "\n",
    "TF supports basic operations such as addition, squaring, matrix-vector products, etc."
   ]
  },
  {
   "cell_type": "code",
   "execution_count": 3,
   "metadata": {},
   "outputs": [
    {
     "name": "stdout",
     "output_type": "stream",
     "text": [
      "tf.Tensor(3, shape=(), dtype=int32)\n",
      "tf.Tensor([4 6], shape=(2,), dtype=int32)\n",
      "tf.Tensor(25, shape=(), dtype=int32)\n",
      "tf.Tensor(6, shape=(), dtype=int32)\n",
      "tf.Tensor(b'aGVsbG8gd29ybGQ', shape=(), dtype=string)\n",
      "tf.Tensor(13, shape=(), dtype=int32)\n"
     ]
    }
   ],
   "source": [
    "print(tf.add(1, 2))\n",
    "print(tf.add([1, 2], [3, 4]))\n",
    "print(tf.square(5))\n",
    "print(tf.reduce_sum([1, 2, 3]))\n",
    "print(tf.encode_base64(\"hello world\"))\n",
    "\n",
    "# Operator overloading is also supported\n",
    "print(tf.square(2) + tf.square(3))"
   ]
  },
  {
   "cell_type": "markdown",
   "metadata": {},
   "source": [
    "You can determine the shape and data type of a tensor:"
   ]
  },
  {
   "cell_type": "code",
   "execution_count": 4,
   "metadata": {},
   "outputs": [
    {
     "name": "stdout",
     "output_type": "stream",
     "text": [
      "(1, 2)\n",
      "<dtype: 'int32'>\n"
     ]
    }
   ],
   "source": [
    "x = tf.matmul([[1]], [[2, 3]])\n",
    "print(x.shape)\n",
    "print(x.dtype)"
   ]
  },
  {
   "cell_type": "markdown",
   "metadata": {},
   "source": [
    "TensorFlow is compatible with python's numpy:"
   ]
  },
  {
   "cell_type": "code",
   "execution_count": 5,
   "metadata": {},
   "outputs": [
    {
     "name": "stdout",
     "output_type": "stream",
     "text": [
      "TensorFlow operations convert numpy arrays to Tensors automatically\n",
      "tf.Tensor(\n",
      "[[42. 42. 42.]\n",
      " [42. 42. 42.]\n",
      " [42. 42. 42.]], shape=(3, 3), dtype=float64)\n",
      "And NumPy operations convert Tensors to numpy arrays automatically\n",
      "[[43. 43. 43.]\n",
      " [43. 43. 43.]\n",
      " [43. 43. 43.]]\n",
      "The .numpy() method explicitly converts a Tensor to a numpy array\n",
      "[[42. 42. 42.]\n",
      " [42. 42. 42.]\n",
      " [42. 42. 42.]]\n"
     ]
    }
   ],
   "source": [
    "import numpy as np\n",
    "\n",
    "ndarray = np.ones([3, 3])\n",
    "\n",
    "print(\"TensorFlow operations convert numpy arrays to Tensors automatically\")\n",
    "tensor = tf.multiply(ndarray, 42)\n",
    "print(tensor)\n",
    "\n",
    "\n",
    "print(\"And NumPy operations convert Tensors to numpy arrays automatically\")\n",
    "print(np.add(tensor, 1))\n",
    "\n",
    "print(\"The .numpy() method explicitly converts a Tensor to a numpy array\")\n",
    "print(tensor.numpy())\n"
   ]
  },
  {
   "cell_type": "markdown",
   "metadata": {},
   "source": [
    "Let's try making a tensor with some data. First, we'll create a numpy array. Then we'll convert the numpy array into a TF tensor."
   ]
  },
  {
   "cell_type": "code",
   "execution_count": 6,
   "metadata": {},
   "outputs": [
    {
     "name": "stdout",
     "output_type": "stream",
     "text": [
      "[[[ 1.  2.  3.]\n",
      "  [ 4.  5.  6.]]\n",
      "\n",
      " [[ 7.  8.  9.]\n",
      "  [10. 11. 12.]]\n",
      "\n",
      " [[13. 14. 15.]\n",
      "  [16. 17. 18.]]]\n",
      "\n",
      " x has shape: \n",
      "\n",
      "(3, 2, 3)\n",
      "\n",
      " x is now a \n",
      "\n",
      "tf.Tensor(\n",
      "[[[ 1.  2.  3.]\n",
      "  [ 4.  5.  6.]]\n",
      "\n",
      " [[ 7.  8.  9.]\n",
      "  [10. 11. 12.]]\n",
      "\n",
      " [[13. 14. 15.]\n",
      "  [16. 17. 18.]]], shape=(3, 2, 3), dtype=float32)\n"
     ]
    }
   ],
   "source": [
    "x_data = np.array([[[ 1.,  2.,  3.], [ 4.,  5.,  6.]],\n",
    "                   [[ 7.,  8.,  9.], [10., 11., 12.]],\n",
    "                   [[13., 14., 15.], [16., 17., 18.]]])\n",
    "\n",
    "print(x_data)\n",
    "\n",
    "print('\\n x has shape: \\n')\n",
    "\n",
    "print(np.shape(x_data))\n",
    "\n",
    "# now let's make a TF tensor from the data\n",
    "x = tf.convert_to_tensor(x_data, dtype = tf.float32)\n",
    "\n",
    "print('\\n x is now a \\n')\n",
    "\n",
    "print(x)"
   ]
  },
  {
   "cell_type": "markdown",
   "metadata": {},
   "source": [
    "## Automatic differentiation\n",
    "\n",
    "TensorFlow provides the tf.GradientTape API for automatic differentiation - computing the gradient of a computation with respect to its input variables. Tensorflow \"records\" all operations executed inside the context of a tf.GradientTape onto a \"tape\". Tensorflow then uses that tape and the gradients associated with each recorded operation to compute the gradients of a \"recorded\" computation using reverse mode differentiation.\n",
    "\n",
    "For example:"
   ]
  },
  {
   "cell_type": "code",
   "execution_count": 9,
   "metadata": {},
   "outputs": [
    {
     "name": "stdout",
     "output_type": "stream",
     "text": [
      "tf.Tensor(\n",
      "[[1. 1.]\n",
      " [1. 1.]], shape=(2, 2), dtype=float32)\n",
      "tf.Tensor(4.0, shape=(), dtype=float32)\n",
      "tf.Tensor(16.0, shape=(), dtype=float32)\n",
      "tf.Tensor(\n",
      "[[8. 8.]\n",
      " [8. 8.]], shape=(2, 2), dtype=float32)\n"
     ]
    }
   ],
   "source": [
    "x = tf.ones((2, 2))\n",
    "\n",
    "print(x)\n",
    "\n",
    "with tf.GradientTape() as t:\n",
    "    t.watch(x)\n",
    "    # take sum of elements of x\n",
    "    y = tf.reduce_sum(x)\n",
    "    print(y)\n",
    "    # multiply to get y^2\n",
    "    z = tf.multiply(y, y)\n",
    "    print(z)\n",
    "\n",
    "# Derivative of z with respect to the original input tensor x\n",
    "dz_dx = t.gradient(z, x)\n",
    "print(dz_dx)\n",
    "for i in [0, 1]:\n",
    "    for j in [0, 1]:\n",
    "        assert dz_dx[i][j].numpy() == 8.0\n"
   ]
  },
  {
   "cell_type": "markdown",
   "metadata": {},
   "source": [
    "You can also request gradients of the output with respect to intermediate values computed during a \"recorded\" tf.GradientTape context."
   ]
  },
  {
   "cell_type": "code",
   "execution_count": 12,
   "metadata": {},
   "outputs": [
    {
     "name": "stdout",
     "output_type": "stream",
     "text": [
      "tf.Tensor(4.0, shape=(), dtype=float32)\n",
      "tf.Tensor(16.0, shape=(), dtype=float32)\n"
     ]
    }
   ],
   "source": [
    "x = tf.ones((2, 2))\n",
    "\n",
    "with tf.GradientTape() as t:\n",
    "    t.watch(x)\n",
    "    # take sum of elements of x\n",
    "    y = tf.reduce_sum(x)\n",
    "    print(y)\n",
    "    # multiply to get y^2\n",
    "    z = tf.multiply(y, y)\n",
    "    print(z)\n",
    "\n",
    "# Use the tape to compute the derivative of z with respect to the\n",
    "# intermediate value y.\n",
    "dz_dy = t.gradient(z, y)\n",
    "assert dz_dy.numpy() == 8.0\n"
   ]
  },
  {
   "cell_type": "markdown",
   "metadata": {},
   "source": [
    "Because tapes record operations as they are executed, Python control flow (using ifs and whiles for example) is naturally handled:"
   ]
  },
  {
   "cell_type": "code",
   "execution_count": 9,
   "metadata": {},
   "outputs": [],
   "source": [
    "def f(x, y):\n",
    "    output = 1.0\n",
    "    for i in range(y):\n",
    "        if i > 1 and i < 5:\n",
    "            output = tf.multiply(output, x)\n",
    "    return output\n",
    "\n",
    "def grad(x, y):\n",
    "    with tf.GradientTape() as t:\n",
    "        t.watch(x)\n",
    "        out = f(x, y)\n",
    "    return t.gradient(out, x)\n",
    "\n",
    "x = tf.convert_to_tensor(2.0)\n",
    "\n",
    "assert grad(x, 6).numpy() == 12.0\n",
    "assert grad(x, 5).numpy() == 12.0\n",
    "assert grad(x, 4).numpy() == 4.0\n"
   ]
  },
  {
   "cell_type": "markdown",
   "metadata": {},
   "source": [
    "### Higher order gradients\n",
    "\n",
    "Operations inside of the GradientTape context manager are recorded for automatic differentiation. If gradients are computed in that context, then the gradient computation is recorded as well. As a result, the exact same API works for higher-order gradients as well. For example:"
   ]
  },
  {
   "cell_type": "code",
   "execution_count": 19,
   "metadata": {},
   "outputs": [
    {
     "name": "stdout",
     "output_type": "stream",
     "text": [
      "tf.Tensor(3.0, shape=(), dtype=float32)\n",
      "None\n"
     ]
    },
    {
     "ename": "AttributeError",
     "evalue": "'NoneType' object has no attribute 'numpy'",
     "output_type": "error",
     "traceback": [
      "\u001b[0;31m---------------------------------------------------------------------------\u001b[0m",
      "\u001b[0;31mAttributeError\u001b[0m                            Traceback (most recent call last)",
      "\u001b[0;32m<ipython-input-19-2fb20f01b30d>\u001b[0m in \u001b[0;36m<module>\u001b[0;34m\u001b[0m\n\u001b[1;32m     22\u001b[0m \u001b[0;32massert\u001b[0m \u001b[0mdy_dx\u001b[0m\u001b[0;34m.\u001b[0m\u001b[0mnumpy\u001b[0m\u001b[0;34m(\u001b[0m\u001b[0;34m)\u001b[0m \u001b[0;34m==\u001b[0m \u001b[0;36m3.0\u001b[0m\u001b[0;34m\u001b[0m\u001b[0;34m\u001b[0m\u001b[0m\n\u001b[1;32m     23\u001b[0m \u001b[0;31m# at x = 1, d^2 y/dx^2 = 3*2*1 = 6\u001b[0m\u001b[0;34m\u001b[0m\u001b[0;34m\u001b[0m\u001b[0;34m\u001b[0m\u001b[0m\n\u001b[0;32m---> 24\u001b[0;31m \u001b[0;32massert\u001b[0m \u001b[0md2y_dx2\u001b[0m\u001b[0;34m.\u001b[0m\u001b[0mnumpy\u001b[0m\u001b[0;34m(\u001b[0m\u001b[0;34m)\u001b[0m \u001b[0;34m==\u001b[0m \u001b[0;36m6.0\u001b[0m\u001b[0;34m\u001b[0m\u001b[0;34m\u001b[0m\u001b[0m\n\u001b[0m",
      "\u001b[0;31mAttributeError\u001b[0m: 'NoneType' object has no attribute 'numpy'"
     ]
    }
   ],
   "source": [
    "x = tf.Variable(1.0)  # Create a Tensorflow variable initialized to 1.0\n",
    "\n",
    "with tf.GradientTape() as t:\n",
    "    with tf.GradientTape() as t2:\n",
    "        t.watch(x)\n",
    "        # set y = x^3\n",
    "        y = x * x * x\n",
    "    # Compute the gradient inside the 't' context manager\n",
    "    # which means the gradient computation is differentiable as well\n",
    "    # dy/dx = 3x^2\n",
    "    dy_dx = t2.gradient(y, x)\n",
    "    print(dy_dx)\n",
    "    \n",
    "# d^2 y/dx^2 = 6x\n",
    "#d2y_dx2 = t.gradient(dy_dx, x)\n",
    "#print(d2y_dx2)\n",
    "x = tf.Variable(10)\n",
    "d2y_dx2 = t.gradient(dy_dx, x)\n",
    "print(d2y_dx2)\n",
    "\n",
    "# at x = 1, dy/dx = 3*1 = 3\n",
    "assert dy_dx.numpy() == 3.0\n",
    "# at x = 1, d^2 y/dx^2 = 3*2*1 = 6\n",
    "assert d2y_dx2.numpy() == 6.0"
   ]
  },
  {
   "cell_type": "markdown",
   "metadata": {},
   "source": [
    "## Slicing\n",
    "\n",
    "Slicing is a common operation performed on tensors. Let's try looking at a few slices of x"
   ]
  },
  {
   "cell_type": "code",
   "execution_count": 20,
   "metadata": {
    "scrolled": false
   },
   "outputs": [
    {
     "name": "stdout",
     "output_type": "stream",
     "text": [
      "[[[ 1.  2.  3.]\n",
      "  [ 4.  5.  6.]]\n",
      "\n",
      " [[ 7.  8.  9.]\n",
      "  [10. 11. 12.]]\n",
      "\n",
      " [[13. 14. 15.]\n",
      "  [16. 17. 18.]]]\n",
      "\n",
      " x has shape: \n",
      "\n",
      "(3, 2, 3)\n",
      "\n",
      " x is now a \n",
      "\n",
      "tf.Tensor(\n",
      "[[[ 1.  2.  3.]\n",
      "  [ 4.  5.  6.]]\n",
      "\n",
      " [[ 7.  8.  9.]\n",
      "  [10. 11. 12.]]\n",
      "\n",
      " [[13. 14. 15.]\n",
      "  [16. 17. 18.]]], shape=(3, 2, 3), dtype=float32)\n",
      "Slicing is performed from a start index to a finishing index.\n",
      "If I slice from (0,0,0) to (3,2,3), I obtain the entire tensor: \n",
      "\n",
      "tf.Tensor(\n",
      "[[[ 1.  2.  3.]\n",
      "  [ 4.  5.  6.]]\n",
      "\n",
      " [[ 7.  8.  9.]\n",
      "  [10. 11. 12.]]\n",
      "\n",
      " [[13. 14. 15.]\n",
      "  [16. 17. 18.]]], shape=(3, 2, 3), dtype=float32)\n",
      "\n",
      " If I slice from (1,0,0) to (2,2,3), I obtain: \n",
      "\n",
      "tf.Tensor(\n",
      "[[[ 7.  8.  9.]\n",
      "  [10. 11. 12.]]\n",
      "\n",
      " [[13. 14. 15.]\n",
      "  [16. 17. 18.]]], shape=(2, 2, 3), dtype=float32)\n",
      "\n",
      " If I slice from (2,0,0) to (3,2,3), I obtain: \n",
      "\n",
      "tf.Tensor(\n",
      "[[[13. 14. 15.]\n",
      "  [16. 17. 18.]]], shape=(1, 2, 3), dtype=float32)\n",
      "\n",
      " If I slice from (0,1,0) to (3,1,3), I obtain: \n",
      "\n",
      "tf.Tensor(\n",
      "[[[ 4.  5.  6.]]\n",
      "\n",
      " [[10. 11. 12.]]\n",
      "\n",
      " [[16. 17. 18.]]], shape=(3, 1, 3), dtype=float32)\n",
      "tf.Tensor(\n",
      "[[[ 1.  2.  3.]\n",
      "  [ 4.  5.  6.]]\n",
      "\n",
      " [[ 7.  8.  9.]\n",
      "  [10. 11. 12.]]\n",
      "\n",
      " [[13. 14. 15.]\n",
      "  [16. 17. 18.]]], shape=(3, 2, 3), dtype=float32)\n"
     ]
    }
   ],
   "source": [
    "x_data = np.array([[[ 1.,  2.,  3.], [ 4.,  5.,  6.]],\n",
    "                   [[ 7.,  8.,  9.], [10., 11., 12.]],\n",
    "                   [[13., 14., 15.], [16., 17., 18.]]])\n",
    "\n",
    "print(x_data)\n",
    "\n",
    "print('\\n x has shape: \\n')\n",
    "\n",
    "print(np.shape(x_data))\n",
    "\n",
    "# now let's make a TF tensor from the data\n",
    "x = tf.convert_to_tensor(x_data, dtype = tf.float32)\n",
    "\n",
    "print('\\n x is now a \\n')\n",
    "\n",
    "print(x)\n",
    "\n",
    "print('Slicing is performed from a start index to a finishing index.')\n",
    "print('If I slice from (0,0,0) to (3,2,3), I obtain the entire tensor: \\n')\n",
    "print(tf.slice(x,[0,0,0],[3,2,3])) # the whole tensor\n",
    "\n",
    "print('\\n If I slice from (1,0,0) to (2,2,3), I obtain: \\n')\n",
    "print(tf.slice(x,[1,0,0],[2,2,3]))\n",
    "\n",
    "print('\\n If I slice from (2,0,0) to (3,2,3), I obtain: \\n')\n",
    "print(tf.slice(x,[2,0,0],[1,2,3]))\n",
    "\n",
    "print('\\n If I slice from (0,1,0) to (3,1,3), I obtain: \\n')\n",
    "print(tf.slice(x,[0,1,0],[3,1,3]))\n",
    "print(x)\n"
   ]
  },
  {
   "cell_type": "markdown",
   "metadata": {},
   "source": [
    "\n",
    "Let's now put the few concepts we have so far ---Tensor, GradientTape, Variable --- to build and train a simple model. This typically involves a few steps:\n",
    "\n",
    "- Define the model.\n",
    "- Define a loss function.\n",
    "- Obtain training data.\n",
    "- Run through the training data and use an \"optimizer\" to adjust the variables to fit the data.\n",
    "\n",
    "In this tutorial, we'll walk through a trivial example of a simple linear model: f(x) = x * W + b, which has two variables - W and b. Furthermore, we'll synthesize data such that a well trained model would have W = 3.0 and b = 2.0.\n",
    "\n",
    "### Define the model\n",
    "\n",
    "Let's define a simple class to encapsulate the variables and the computation."
   ]
  },
  {
   "cell_type": "code",
   "execution_count": 7,
   "metadata": {},
   "outputs": [
    {
     "name": "stdout",
     "output_type": "stream",
     "text": [
      "WARNING:tensorflow:From /opt/conda/lib/python3.7/site-packages/tensorflow/python/ops/resource_variable_ops.py:642: colocate_with (from tensorflow.python.framework.ops) is deprecated and will be removed in a future version.\n",
      "Instructions for updating:\n",
      "Colocations handled automatically by placer.\n"
     ]
    }
   ],
   "source": [
    "class Model(object):\n",
    "    def __init__(self):\n",
    "        # Initialize variable to (5.0, 0.0)\n",
    "        # In practice, these should be initialized to random values.\n",
    "        self.W = tf.Variable(5.0)\n",
    "        self.b = tf.Variable(0.0)\n",
    "\n",
    "    def __call__(self, x):\n",
    "        return self.W * x + self.b\n",
    "\n",
    "model = Model()\n",
    "\n",
    "assert model(3.0).numpy() == 15.0\n"
   ]
  },
  {
   "cell_type": "markdown",
   "metadata": {},
   "source": [
    "### Define a loss function\n",
    "\n",
    "A loss function measures how well the output of a model for a given input matches the desired output. Let's use the standard L2 loss."
   ]
  },
  {
   "cell_type": "code",
   "execution_count": 8,
   "metadata": {},
   "outputs": [],
   "source": [
    "def loss(predicted_y, desired_y):\n",
    "    return tf.reduce_mean(tf.square(predicted_y - desired_y))"
   ]
  },
  {
   "cell_type": "markdown",
   "metadata": {},
   "source": [
    "### Obtain training data\n",
    "\n",
    "Let's synthesize the training data with some noise."
   ]
  },
  {
   "cell_type": "code",
   "execution_count": 4,
   "metadata": {},
   "outputs": [],
   "source": [
    "TRUE_W = 3.0\n",
    "TRUE_b = 2.0\n",
    "NUM_EXAMPLES = 1000\n",
    "\n",
    "inputs  = tf.random_normal(shape=[NUM_EXAMPLES])\n",
    "noise   = tf.random_normal(shape=[NUM_EXAMPLES])\n",
    "outputs = inputs * TRUE_W + TRUE_b + noise"
   ]
  },
  {
   "cell_type": "markdown",
   "metadata": {},
   "source": [
    "Before we train the model let's visualize where the model stands right now. We'll plot the model's predictions in red and the training data in blue."
   ]
  },
  {
   "cell_type": "code",
   "execution_count": 10,
   "metadata": {},
   "outputs": [
    {
     "data": {
      "image/png": "[encoded data removed]",
      "text/plain": [
       "<Figure size 432x288 with 1 Axes>"
      ]
     },
     "metadata": {
      "needs_background": "light"
     },
     "output_type": "display_data"
    },
    {
     "name": "stdout",
     "output_type": "stream",
     "text": [
      "Current loss: \n",
      "8.598458\n"
     ]
    }
   ],
   "source": [
    "import matplotlib.pyplot as plt\n",
    "%matplotlib inline\n",
    "\n",
    "plt.scatter(inputs, outputs, c='b')\n",
    "plt.scatter(inputs, model(inputs), c='r')\n",
    "plt.show()\n",
    "\n",
    "print('Current loss: ')\n",
    "print(loss(model(inputs), outputs).numpy())\n"
   ]
  },
  {
   "cell_type": "markdown",
   "metadata": {},
   "source": [
    "### Define a training loop\n",
    "\n",
    "We now have our network and our training data. Let's train it, i.e., use the training data to update the model's variables (W and b) so that the loss goes down using gradient descent. There are many variants of the gradient descent scheme that are captured in tf.train.Optimizer implementations. We'd highly recommend using those implementations, but in the spirit of building from first principles, in this particular example we will implement the basic math ourselves."
   ]
  },
  {
   "cell_type": "code",
   "execution_count": 12,
   "metadata": {},
   "outputs": [],
   "source": [
    "def train(model, inputs, outputs, learning_rate):\n",
    "    with tf.GradientTape() as t:\n",
    "        current_loss = loss(model(inputs), outputs)\n",
    "    dW, db = t.gradient(current_loss, [model.W, model.b])\n",
    "    model.W.assign_sub(learning_rate * dW)\n",
    "    model.b.assign_sub(learning_rate * db)\n"
   ]
  },
  {
   "cell_type": "markdown",
   "metadata": {},
   "source": [
    "Finally, let's repeatedly run through the training data and see how W and b evolve."
   ]
  },
  {
   "cell_type": "code",
   "execution_count": 14,
   "metadata": {},
   "outputs": [
    {
     "name": "stdout",
     "output_type": "stream",
     "text": [
      "Epoch  0: W=5.00 b=0.00, loss=8.59846\n",
      "Epoch  1: W=4.63 b=0.39, loss=5.95396\n",
      "Epoch  2: W=4.32 b=0.71, loss=4.22630\n",
      "Epoch  3: W=4.08 b=0.96, loss=3.09745\n",
      "Epoch  4: W=3.88 b=1.16, loss=2.35977\n",
      "Epoch  5: W=3.71 b=1.33, loss=1.87764\n",
      "Epoch  6: W=3.58 b=1.46, loss=1.56249\n",
      "Epoch  7: W=3.47 b=1.56, loss=1.35647\n",
      "Epoch  8: W=3.39 b=1.65, loss=1.22176\n",
      "Epoch  9: W=3.31 b=1.72, loss=1.13368\n",
      "Epoch 10: W=3.26 b=1.77, loss=1.07608\n",
      "Epoch 11: W=3.21 b=1.82, loss=1.03840\n",
      "Epoch 12: W=3.17 b=1.85, loss=1.01375\n",
      "Epoch 13: W=3.14 b=1.88, loss=0.99763\n",
      "Epoch 14: W=3.11 b=1.90, loss=0.98708\n",
      "Epoch 15: W=3.09 b=1.92, loss=0.98018\n",
      "Epoch 16: W=3.08 b=1.94, loss=0.97566\n",
      "Epoch 17: W=3.06 b=1.95, loss=0.97270\n",
      "Epoch 18: W=3.05 b=1.96, loss=0.97077\n",
      "Epoch 19: W=3.04 b=1.97, loss=0.96950\n"
     ]
    },
    {
     "data": {
      "image/png": "[encoded data removed]",
      "text/plain": [
       "<Figure size 432x288 with 1 Axes>"
      ]
     },
     "metadata": {
      "needs_background": "light"
     },
     "output_type": "display_data"
    }
   ],
   "source": [
    "model = Model()\n",
    "\n",
    "# Collect the history of W-values and b-values to plot later\n",
    "Ws, bs = [], []\n",
    "epochs = range(20)\n",
    "for epoch in epochs:\n",
    "    Ws.append(model.W.numpy())\n",
    "    bs.append(model.b.numpy())\n",
    "    current_loss = loss(model(inputs), outputs)\n",
    "\n",
    "    train(model, inputs, outputs, learning_rate=0.1)\n",
    "    print('Epoch %2d: W=%1.2f b=%1.2f, loss=%2.5f' %\n",
    "        (epoch, Ws[-1], bs[-1], current_loss))\n",
    "\n",
    "# Let's plot it all\n",
    "plt.plot(epochs, Ws, 'r',\n",
    "         epochs, bs, 'b')\n",
    "plt.plot([TRUE_W] * len(epochs), 'r--',\n",
    "         [TRUE_b] * len(epochs), 'b--')\n",
    "plt.legend(['W', 'b', 'true W', 'true_b'])\n",
    "plt.show()\n"
   ]
  },
  {
   "cell_type": "markdown",
   "metadata": {},
   "source": [
    "### View the result\n",
    "\n",
    "With our trained W and b, how well does the model do now?"
   ]
  },
  {
   "cell_type": "code",
   "execution_count": 15,
   "metadata": {},
   "outputs": [
    {
     "data": {
      "image/png": "[encoded data removed]",
      "text/plain": [
       "<Figure size 432x288 with 1 Axes>"
      ]
     },
     "metadata": {
      "needs_background": "light"
     },
     "output_type": "display_data"
    },
    {
     "name": "stdout",
     "output_type": "stream",
     "text": [
      "Current loss: \n",
      "0.96867234\n"
     ]
    }
   ],
   "source": [
    "plt.scatter(inputs, outputs, c='b')\n",
    "plt.scatter(inputs, model(inputs), c='r')\n",
    "plt.show()\n",
    "\n",
    "print('Current loss: '),\n",
    "print(loss(model(inputs), outputs).numpy())"
   ]
  },
  {
   "cell_type": "markdown",
   "metadata": {},
   "source": []
  },
  {
   "cell_type": "code",
   "execution_count": null,
   "metadata": {},
   "outputs": [],
   "source": []
  },
  {
   "cell_type": "code",
   "execution_count": null,
   "metadata": {},
   "outputs": [],
   "source": []
  }
 ],
 "metadata": {
  "kernelspec": {
   "display_name": "Python 3",
   "language": "python",
   "name": "python3"
  },
  "language_info": {
   "codemirror_mode": {
    "name": "ipython",
    "version": 3
   },
   "file_extension": ".py",
   "mimetype": "text/x-python",
   "name": "python",
   "nbconvert_exporter": "python",
   "pygments_lexer": "ipython3",
   "version": "3.7.3"
  }
 },
 "nbformat": 4,
 "nbformat_minor": 2
}
