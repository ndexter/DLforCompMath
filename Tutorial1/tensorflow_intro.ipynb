{
 "cells": [
  {
   "cell_type": "markdown",
   "metadata": {},
   "source": [
    "# Introduction to tensorflow\n",
    "\n",
    "This portion of the tutorial, we'll discuss basics of tensorflow in the context of some illustrative numerical examples.\n",
    "\n",
    "The first step is to import tensorflow and enable eager execution:"
   ]
  },
  {
   "cell_type": "code",
   "execution_count": 21,
   "metadata": {},
   "outputs": [
    {
     "name": "stdout",
     "output_type": "stream",
     "text": [
      "Loaded TensorFlow version 1.13.1\n"
     ]
    }
   ],
   "source": [
    "import tensorflow as tf\n",
    "import numpy as np\n",
    "\n",
    "tf.enable_eager_execution()\n",
    "\n",
    "tf.executing_eagerly()\n",
    "\n",
    "print('Loaded TensorFlow version ' + tf.__version__)"
   ]
  },
  {
   "cell_type": "markdown",
   "metadata": {},
   "source": [
    "After version 1.7, TensorFlow supports a new execution mode that is easier for use with the interactive python interpreter. Google describes its eager execution mode as \"an imperative programming environment that evaluates operations immediately, without building graphs: operations return concrete values instead of constructing a computational graph to run later.\"\n",
    "\n",
    "TensorFlow used to only support creating a graph first and only evaluating operations in the context of \"sessions.\"\n",
    "\n",
    "For example (this code constructs a computational graph, but does not initialize variables until Session is started):"
   ]
  },
  {
   "cell_type": "markdown",
   "metadata": {},
   "source": [
    "```\n",
    "import tensorflow as tf\n",
    "import numpy as np\n",
    "\n",
    "dim1 = 1\n",
    "dim2 = 1\n",
    "sigma = 0.1\n",
    "precision = tf.float32\n",
    "rho = tf.nn.relu\n",
    "layers = 3\n",
    "\n",
    "# placeholders are not compatibe with TF's eager execution mode\n",
    "x = tf.placeholder(precision, shape = [dim1, None], name = 'input')\n",
    "\n",
    "with tf.variable_scope('Model'):\n",
    "\n",
    "    # input layer\n",
    "    in_W = tf.get_variable(name = 'in_W', shape = [dim2, dim1],\n",
    "            initializer = tf.random_normal_initializer(stddev = sigma, dtype = precision), \n",
    "            dtype = precision)\n",
    "\n",
    "    in_b = tf.get_variable(name = 'in_b', shape = [dim2, 1],\n",
    "            initializer = tf.random_normal_initializer(stddev = sigma, dtype = precision), \n",
    "            dtype = precision)\n",
    "    \n",
    "    x = rho(tf.matmul(in_W, x) + in_b)\n",
    "    \n",
    "    # build\n",
    "    for layer in range(layers):\n",
    "\n",
    "        W = tf.get_variable(name = 'l' + str(layer) + '_W', shape = [dim1, dim2],\n",
    "                initializer = tf.random_normal_initializer(stddev = sigma, dtype = precision), \n",
    "                dtype = precision)\n",
    "\n",
    "        b = tf.get_variable(name = 'l' + str(layer) + '_b', shape = [dim2, 1],\n",
    "                initializer = tf.random_normal_initializer(stddev = sigma, dtype = precision), \n",
    "                dtype = precision)\n",
    "    \n",
    "        x = rho(tf.matmul(W, x) + b)\n",
    "        \n",
    "    # output layer description\n",
    "    out_v = tf.get_variable(name = 'out_v', shape = [dim1, dim2],\n",
    "         initializer = tf.random_normal_initializer(stddev = sigma, dtype = precision), \n",
    "         dtype = precision)\n",
    "    \n",
    "    x = tf.matmul(out_v, x, name = 'output')\n",
    "\n",
    "with tf.Session() as sess:\n",
    "    \n",
    "    # variables such as weights and biases are not actually initialized until here\n",
    "    sess.run(tf.global_variables_initializer())\n",
    "    \n",
    "```"
   ]
  },
  {
   "cell_type": "markdown",
   "metadata": {},
   "source": [
    "## Basic operations\n",
    "\n",
    "TF supports basic operations such as addition, squaring, matrix-vector products, etc."
   ]
  },
  {
   "cell_type": "code",
   "execution_count": 5,
   "metadata": {},
   "outputs": [
    {
     "name": "stdout",
     "output_type": "stream",
     "text": [
      "tf.Tensor(3, shape=(), dtype=int32)\n",
      "tf.Tensor([4 6], shape=(2,), dtype=int32)\n",
      "tf.Tensor(25, shape=(), dtype=int32)\n",
      "tf.Tensor(6, shape=(), dtype=int32)\n",
      "tf.Tensor(b'aGVsbG8gd29ybGQ', shape=(), dtype=string)\n",
      "tf.Tensor(13, shape=(), dtype=int32)\n"
     ]
    }
   ],
   "source": [
    "print(tf.add(1, 2))\n",
    "print(tf.add([1, 2], [3, 4]))\n",
    "print(tf.square(5))\n",
    "print(tf.reduce_sum([1, 2, 3]))\n",
    "print(tf.encode_base64(\"hello world\"))\n",
    "\n",
    "# Operator overloading is also supported\n",
    "print(tf.square(2) + tf.square(3))"
   ]
  },
  {
   "cell_type": "markdown",
   "metadata": {},
   "source": [
    "You can determine the shape and data type of a tensor:"
   ]
  },
  {
   "cell_type": "code",
   "execution_count": 6,
   "metadata": {},
   "outputs": [
    {
     "name": "stdout",
     "output_type": "stream",
     "text": [
      "(1, 2)\n",
      "<dtype: 'int32'>\n"
     ]
    }
   ],
   "source": [
    "x = tf.matmul([[1]], [[2, 3]])\n",
    "print(x.shape)\n",
    "print(x.dtype)"
   ]
  },
  {
   "cell_type": "markdown",
   "metadata": {},
   "source": [
    "TensorFlow is compatible with python's numpy:"
   ]
  },
  {
   "cell_type": "code",
   "execution_count": 7,
   "metadata": {},
   "outputs": [
    {
     "name": "stdout",
     "output_type": "stream",
     "text": [
      "TensorFlow operations convert numpy arrays to Tensors automatically\n",
      "tf.Tensor(\n",
      "[[42. 42. 42.]\n",
      " [42. 42. 42.]\n",
      " [42. 42. 42.]], shape=(3, 3), dtype=float64)\n",
      "And NumPy operations convert Tensors to numpy arrays automatically\n",
      "[[43. 43. 43.]\n",
      " [43. 43. 43.]\n",
      " [43. 43. 43.]]\n",
      "The .numpy() method explicitly converts a Tensor to a numpy array\n",
      "[[42. 42. 42.]\n",
      " [42. 42. 42.]\n",
      " [42. 42. 42.]]\n"
     ]
    }
   ],
   "source": [
    "import numpy as np\n",
    "\n",
    "ndarray = np.ones([3, 3])\n",
    "\n",
    "print(\"TensorFlow operations convert numpy arrays to Tensors automatically\")\n",
    "tensor = tf.multiply(ndarray, 42)\n",
    "print(tensor)\n",
    "\n",
    "\n",
    "print(\"And NumPy operations convert Tensors to numpy arrays automatically\")\n",
    "print(np.add(tensor, 1))\n",
    "\n",
    "print(\"The .numpy() method explicitly converts a Tensor to a numpy array\")\n",
    "print(tensor.numpy())\n"
   ]
  },
  {
   "cell_type": "markdown",
   "metadata": {},
   "source": [
    "Let's try making a tensor with some data. First, we'll create a numpy array. Then we'll convert the numpy array into a TF tensor."
   ]
  },
  {
   "cell_type": "code",
   "execution_count": 8,
   "metadata": {},
   "outputs": [
    {
     "name": "stdout",
     "output_type": "stream",
     "text": [
      "[[[ 1.  2.  3.]\n",
      "  [ 4.  5.  6.]]\n",
      "\n",
      " [[ 7.  8.  9.]\n",
      "  [10. 11. 12.]]\n",
      "\n",
      " [[13. 14. 15.]\n",
      "  [16. 17. 18.]]]\n",
      "\n",
      " x has shape: \n",
      "\n",
      "(3, 2, 3)\n",
      "\n",
      " x is now a \n",
      "\n",
      "tf.Tensor(\n",
      "[[[ 1.  2.  3.]\n",
      "  [ 4.  5.  6.]]\n",
      "\n",
      " [[ 7.  8.  9.]\n",
      "  [10. 11. 12.]]\n",
      "\n",
      " [[13. 14. 15.]\n",
      "  [16. 17. 18.]]], shape=(3, 2, 3), dtype=float32)\n"
     ]
    }
   ],
   "source": [
    "x_data = np.array([[[ 1.,  2.,  3.], [ 4.,  5.,  6.]],\n",
    "                   [[ 7.,  8.,  9.], [10., 11., 12.]],\n",
    "                   [[13., 14., 15.], [16., 17., 18.]]])\n",
    "\n",
    "print(x_data)\n",
    "\n",
    "print('\\n x has shape: \\n')\n",
    "\n",
    "print(np.shape(x_data))\n",
    "\n",
    "# now let's make a TF tensor from the data\n",
    "x = tf.convert_to_tensor(x_data, dtype = tf.float32)\n",
    "\n",
    "print('\\n x is now a \\n')\n",
    "\n",
    "print(x)"
   ]
  },
  {
   "cell_type": "markdown",
   "metadata": {},
   "source": [
    "## Automatic differentiation\n",
    "\n",
    "TensorFlow provides the tf.GradientTape API for automatic differentiation - computing the gradient of a computation with respect to its input variables. Tensorflow \"records\" all operations executed inside the context of a tf.GradientTape onto a \"tape\". Tensorflow then uses that tape and the gradients associated with each recorded operation to compute the gradients of a \"recorded\" computation using reverse mode differentiation.\n",
    "\n",
    "For example:"
   ]
  },
  {
   "cell_type": "code",
   "execution_count": null,
   "metadata": {},
   "outputs": [],
   "source": [
    "x = tf.ones((2, 2))\n",
    "\n",
    "with tf.GradientTape() as t:\n",
    "    t.watch(x)\n",
    "    # take sum of elements of x\n",
    "    y = tf.reduce_sum(x)\n",
    "    print(y)\n",
    "    # multiply to get y^2\n",
    "    z = tf.multiply(y, y)\n",
    "    print(z)\n",
    "\n",
    "# Derivative of z with respect to the original input tensor x\n",
    "dz_dx = t.gradient(z, x)\n",
    "print(dz_dx)\n",
    "for i in [0, 1]:\n",
    "    for j in [0, 1]:\n",
    "        assert dz_dx[i][j].numpy() == 8.0\n"
   ]
  },
  {
   "cell_type": "markdown",
   "metadata": {},
   "source": [
    "You can also request gradients of the output with respect to intermediate values computed during a \"recorded\" tf.GradientTape context."
   ]
  },
  {
   "cell_type": "code",
   "execution_count": null,
   "metadata": {},
   "outputs": [],
   "source": [
    "x = tf.ones((2, 2))\n",
    "\n",
    "with tf.GradientTape() as t:\n",
    "    t.watch(x)\n",
    "    # take sum of elements of x\n",
    "    y = tf.reduce_sum(x)\n",
    "    print(y)\n",
    "    # multiply to get y^2\n",
    "    z = tf.multiply(y, y)\n",
    "\n",
    "# Use the tape to compute the derivative of z with respect to the\n",
    "# intermediate value y.\n",
    "dz_dy = t.gradient(z, y)\n",
    "assert dz_dy.numpy() == 8.0\n"
   ]
  },
  {
   "cell_type": "markdown",
   "metadata": {},
   "source": [
    "Because tapes record operations as they are executed, Python control flow (using ifs and whiles for example) is naturally handled:"
   ]
  },
  {
   "cell_type": "code",
   "execution_count": 20,
   "metadata": {},
   "outputs": [],
   "source": [
    "def f(x, y):\n",
    "  output = 1.0\n",
    "  for i in range(y):\n",
    "    if i > 1 and i < 5:\n",
    "      output = tf.multiply(output, x)\n",
    "  return output\n",
    "\n",
    "def grad(x, y):\n",
    "  with tf.GradientTape() as t:\n",
    "    t.watch(x)\n",
    "    out = f(x, y)\n",
    "  return t.gradient(out, x)\n",
    "\n",
    "x = tf.convert_to_tensor(2.0)\n",
    "\n",
    "assert grad(x, 6).numpy() == 12.0\n",
    "assert grad(x, 5).numpy() == 12.0\n",
    "assert grad(x, 4).numpy() == 4.0\n"
   ]
  },
  {
   "cell_type": "markdown",
   "metadata": {},
   "source": [
    "### Higher order gradients\n",
    "\n",
    "Operations inside of the GradientTape context manager are recorded for automatic differentiation. If gradients are computed in that context, then the gradient computation is recorded as well. As a result, the exact same API works for higher-order gradients as well. For example:"
   ]
  },
  {
   "cell_type": "code",
   "execution_count": 26,
   "metadata": {},
   "outputs": [],
   "source": [
    "x = tf.Variable(1.0)  # Create a Tensorflow variable initialized to 1.0\n",
    "\n",
    "with tf.GradientTape() as t:\n",
    "    with tf.GradientTape() as t2:\n",
    "        # set y = x^3\n",
    "        y = x * x * x\n",
    "    # Compute the gradient inside the 't' context manager\n",
    "    # which means the gradient computation is differentiable as well\n",
    "    # dy/dx = 3x^2\n",
    "    dy_dx = t2.gradient(y, x)\n",
    "    \n",
    "# d^2 y/dx^2 = 6x\n",
    "d2y_dx2 = t.gradient(dy_dx, x)\n",
    "\n",
    "# at x = 1, dy/dx = 3*1 = 3\n",
    "assert dy_dx.numpy() == 3.0\n",
    "# at x = 1, d^2 y/dx^2 = 3*2*1 = 6\n",
    "assert d2y_dx2.numpy() == 6.0"
   ]
  },
  {
   "cell_type": "markdown",
   "metadata": {},
   "source": [
    "## Slicing\n",
    "\n",
    "Slicing is a common operation performed on tensors. Let's try looking at a few slices of x"
   ]
  },
  {
   "cell_type": "code",
   "execution_count": 3,
   "metadata": {},
   "outputs": [
    {
     "name": "stdout",
     "output_type": "stream",
     "text": [
      "Slicing is performed from a start index to a finishing index.\n",
      "If I slice from (0,0,0) to (3,2,3), I obtain the entire tensor: \n",
      "\n",
      "tf.Tensor(\n",
      "[[[ 1.  2.  3.]\n",
      "  [ 4.  5.  6.]]\n",
      "\n",
      " [[ 7.  8.  9.]\n",
      "  [10. 11. 12.]]\n",
      "\n",
      " [[13. 14. 15.]\n",
      "  [16. 17. 99.]]], shape=(3, 2, 3), dtype=float32)\n",
      "\n",
      " If I slice from (1,0,0) to (2,2,3), I obtain: \n",
      "\n",
      "tf.Tensor(\n",
      "[[[ 7.  8.  9.]\n",
      "  [10. 11. 12.]]\n",
      "\n",
      " [[13. 14. 15.]\n",
      "  [16. 17. 99.]]], shape=(2, 2, 3), dtype=float32)\n",
      "\n",
      " If I slice from (2,0,0) to (3,2,3), I obtain: \n",
      "\n",
      "tf.Tensor(\n",
      "[[[13. 14. 15.]\n",
      "  [16. 17. 99.]]], shape=(1, 2, 3), dtype=float32)\n",
      "\n",
      " If I slice from (0,1,0) to (3,2,3), I obtain: \n",
      "\n",
      "tf.Tensor(\n",
      "[[[ 4.  5.  6.]]\n",
      "\n",
      " [[10. 11. 12.]]\n",
      "\n",
      " [[16. 17. 99.]]], shape=(3, 1, 3), dtype=float32)\n",
      "tf.Tensor(\n",
      "[[[ 2.]\n",
      "  [ 5.]]\n",
      "\n",
      " [[ 8.]\n",
      "  [11.]]\n",
      "\n",
      " [[14.]\n",
      "  [17.]]], shape=(3, 2, 1), dtype=float32)\n",
      "tf.Tensor(\n",
      "[[[ 2.  3.]\n",
      "  [ 5.  6.]]\n",
      "\n",
      " [[ 8.  9.]\n",
      "  [11. 12.]]\n",
      "\n",
      " [[14. 15.]\n",
      "  [17. 99.]]], shape=(3, 2, 2), dtype=float32)\n"
     ]
    }
   ],
   "source": [
    "print('Slicing is performed from a start index to a finishing index.')\n",
    "print('If I slice from (0,0,0) to (3,2,3), I obtain the entire tensor: \\n')\n",
    "print(tf.slice(x,[0,0,0],[3,2,3])) # the whole tensor\n",
    "\n",
    "print('\\n If I slice from (1,0,0) to (2,2,3), I obtain: \\n')\n",
    "print(tf.slice(x,[1,0,0],[2,2,3]))\n",
    "\n",
    "print('\\n If I slice from (2,0,0) to (3,2,3), I obtain: \\n')\n",
    "print(tf.slice(x,[2,0,0],[1,2,3]))\n",
    "\n",
    "print('\\n If I slice from (0,1,0) to (3,2,3), I obtain: \\n')\n",
    "print(tf.slice(x,[0,1,0],[3,1,3]))\n",
    "print(tf.slice(x,[0,0,1],[3,2,1]))\n",
    "print(tf.slice(x,[0,0,1],[3,2,2]))"
   ]
  },
  {
   "cell_type": "markdown",
   "metadata": {},
   "source": [
    "\n",
    "Let's now put the few concepts we have so far ---Tensor, GradientTape, Variable --- to build and train a simple model. This typically involves a few steps:\n",
    "\n",
    "- Define the model.\n",
    "- Define a loss function.\n",
    "- Obtain training data.\n",
    "- Run through the training data and use an \"optimizer\" to adjust the variables to fit the data.\n",
    "\n",
    "In this tutorial, we'll walk through a trivial example of a simple linear model: f(x) = x * W + b, which has two variables - W and b. Furthermore, we'll synthesize data such that a well trained model would have W = 3.0 and b = 2.0.\n",
    "\n",
    "Let's define a simple class to encapsulate the variables and the computation."
   ]
  },
  {
   "cell_type": "code",
   "execution_count": 27,
   "metadata": {},
   "outputs": [],
   "source": [
    "class Model(object):\n",
    "  def __init__(self):\n",
    "    # Initialize variable to (5.0, 0.0)\n",
    "    # In practice, these should be initialized to random values.\n",
    "    self.W = tf.Variable(5.0)\n",
    "    self.b = tf.Variable(0.0)\n",
    "\n",
    "  def __call__(self, x):\n",
    "    return self.W * x + self.b\n",
    "\n",
    "model = Model()\n",
    "\n",
    "assert model(3.0).numpy() == 15.0\n"
   ]
  },
  {
   "cell_type": "code",
   "execution_count": null,
   "metadata": {},
   "outputs": [],
   "source": []
  },
  {
   "cell_type": "code",
   "execution_count": 28,
   "metadata": {},
   "outputs": [],
   "source": [
    "def loss(predicted_y, desired_y):\n",
    "  return tf.reduce_mean(tf.square(predicted_y - desired_y))"
   ]
  },
  {
   "cell_type": "code",
   "execution_count": null,
   "metadata": {},
   "outputs": [],
   "source": []
  },
  {
   "cell_type": "code",
   "execution_count": 30,
   "metadata": {},
   "outputs": [],
   "source": [
    "TRUE_W = 3.0\n",
    "TRUE_b = 2.0\n",
    "NUM_EXAMPLES = 1000\n",
    "\n",
    "inputs  = tf.random_normal(shape=[NUM_EXAMPLES])\n",
    "noise   = tf.random_normal(shape=[NUM_EXAMPLES])\n",
    "outputs = inputs * TRUE_W + TRUE_b + noise"
   ]
  },
  {
   "cell_type": "code",
   "execution_count": null,
   "metadata": {},
   "outputs": [],
   "source": []
  },
  {
   "cell_type": "code",
   "execution_count": 32,
   "metadata": {},
   "outputs": [
    {
     "data": {
      "image/png": "[encoded data removed]",
      "text/plain": [
       "<Figure size 432x288 with 1 Axes>"
      ]
     },
     "metadata": {
      "needs_background": "light"
     },
     "output_type": "display_data"
    },
    {
     "name": "stdout",
     "output_type": "stream",
     "text": [
      "Current loss: \n",
      "9.202782\n"
     ]
    }
   ],
   "source": [
    "import matplotlib.pyplot as plt\n",
    "%matplotlib inline\n",
    "\n",
    "plt.scatter(inputs, outputs, c='b')\n",
    "plt.scatter(inputs, model(inputs), c='r')\n",
    "plt.show()\n",
    "\n",
    "print('Current loss: '),\n",
    "print(loss(model(inputs), outputs).numpy())\n"
   ]
  },
  {
   "cell_type": "code",
   "execution_count": null,
   "metadata": {},
   "outputs": [],
   "source": []
  },
  {
   "cell_type": "code",
   "execution_count": 33,
   "metadata": {},
   "outputs": [],
   "source": [
    "def train(model, inputs, outputs, learning_rate):\n",
    "  with tf.GradientTape() as t:\n",
    "    current_loss = loss(model(inputs), outputs)\n",
    "  dW, db = t.gradient(current_loss, [model.W, model.b])\n",
    "  model.W.assign_sub(learning_rate * dW)\n",
    "  model.b.assign_sub(learning_rate * db)\n"
   ]
  },
  {
   "cell_type": "code",
   "execution_count": null,
   "metadata": {},
   "outputs": [],
   "source": []
  },
  {
   "cell_type": "code",
   "execution_count": 36,
   "metadata": {},
   "outputs": [
    {
     "name": "stdout",
     "output_type": "stream",
     "text": [
      "Epoch  0: W=5.00 b=0.00, loss=9.20278\n",
      "Epoch  1: W=4.59 b=0.40, loss=6.26660\n",
      "Epoch  2: W=4.27 b=0.72, loss=4.38999\n",
      "Epoch  3: W=4.01 b=0.98, loss=3.19058\n",
      "Epoch  4: W=3.80 b=1.18, loss=2.42398\n",
      "Epoch  5: W=3.63 b=1.34, loss=1.93402\n",
      "Epoch  6: W=3.50 b=1.47, loss=1.62086\n",
      "Epoch  7: W=3.39 b=1.58, loss=1.42071\n",
      "Epoch  8: W=3.30 b=1.66, loss=1.29278\n",
      "Epoch  9: W=3.23 b=1.72, loss=1.21101\n",
      "Epoch 10: W=3.18 b=1.78, loss=1.15875\n",
      "Epoch 11: W=3.13 b=1.82, loss=1.12535\n",
      "Epoch 12: W=3.10 b=1.85, loss=1.10399\n",
      "Epoch 13: W=3.07 b=1.88, loss=1.09035\n",
      "Epoch 14: W=3.05 b=1.90, loss=1.08162\n",
      "Epoch 15: W=3.03 b=1.92, loss=1.07605\n",
      "Epoch 16: W=3.02 b=1.93, loss=1.07249\n",
      "Epoch 17: W=3.00 b=1.94, loss=1.07021\n",
      "Epoch 18: W=3.00 b=1.95, loss=1.06875\n",
      "Epoch 19: W=2.99 b=1.96, loss=1.06782\n"
     ]
    },
    {
     "data": {
      "image/png": "[encoded data removed]",
      "text/plain": [
       "<Figure size 432x288 with 1 Axes>"
      ]
     },
     "metadata": {
      "needs_background": "light"
     },
     "output_type": "display_data"
    }
   ],
   "source": [
    "model = Model()\n",
    "\n",
    "# Collect the history of W-values and b-values to plot later\n",
    "Ws, bs = [], []\n",
    "epochs = range(20)\n",
    "for epoch in epochs:\n",
    "    Ws.append(model.W.numpy())\n",
    "    bs.append(model.b.numpy())\n",
    "    current_loss = loss(model(inputs), outputs)\n",
    "\n",
    "    train(model, inputs, outputs, learning_rate=0.1)\n",
    "    print('Epoch %2d: W=%1.2f b=%1.2f, loss=%2.5f' %\n",
    "        (epoch, Ws[-1], bs[-1], current_loss))\n",
    "\n",
    "# Let's plot it all\n",
    "plt.plot(epochs, Ws, 'r',\n",
    "         epochs, bs, 'b')\n",
    "plt.plot([TRUE_W] * len(epochs), 'r--',\n",
    "         [TRUE_b] * len(epochs), 'b--')\n",
    "plt.legend(['W', 'b', 'true W', 'true_b'])\n",
    "plt.show()\n"
   ]
  },
  {
   "cell_type": "code",
   "execution_count": 37,
   "metadata": {},
   "outputs": [
    {
     "data": {
      "image/png": "[encoded data removed]",
      "text/plain": [
       "<Figure size 432x288 with 1 Axes>"
      ]
     },
     "metadata": {
      "needs_background": "light"
     },
     "output_type": "display_data"
    },
    {
     "name": "stdout",
     "output_type": "stream",
     "text": [
      "Current loss: \n",
      "1.0672256\n"
     ]
    }
   ],
   "source": [
    "plt.scatter(inputs, outputs, c='b')\n",
    "plt.scatter(inputs, model(inputs), c='r')\n",
    "plt.show()\n",
    "\n",
    "print('Current loss: '),\n",
    "print(loss(model(inputs), outputs).numpy())"
   ]
  },
  {
   "cell_type": "markdown",
   "metadata": {},
   "source": []
  },
  {
   "cell_type": "code",
   "execution_count": 38,
   "metadata": {},
   "outputs": [],
   "source": []
  },
  {
   "cell_type": "code",
   "execution_count": null,
   "metadata": {},
   "outputs": [],
   "source": []
  }
 ],
 "metadata": {
  "kernelspec": {
   "display_name": "Python 3",
   "language": "python",
   "name": "python3"
  },
  "language_info": {
   "codemirror_mode": {
    "name": "ipython",
    "version": 3
   },
   "file_extension": ".py",
   "mimetype": "text/x-python",
   "name": "python",
   "nbconvert_exporter": "python",
   "pygments_lexer": "ipython3",
   "version": "3.7.3"
  }
 },
 "nbformat": 4,
 "nbformat_minor": 2
}
