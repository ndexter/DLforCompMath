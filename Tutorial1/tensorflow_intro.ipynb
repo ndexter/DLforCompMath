{
 "cells": [
  {
   "cell_type": "markdown",
   "metadata": {},
   "source": [
    "# Introduction to tensorflow\n",
    "\n",
    "This portion of the tutorial, we'll discuss basics of tensorflow in the context of some illustrative numerical examples.\n",
    "\n",
    "The first step is to import tensorflow:"
   ]
  },
  {
   "cell_type": "code",
   "execution_count": 1,
   "metadata": {},
   "outputs": [
    {
     "name": "stdout",
     "output_type": "stream",
     "text": [
      "Loaded TensorFlow version 1.13.1\n"
     ]
    }
   ],
   "source": [
    "import tensorflow as tf\n",
    "import numpy as np\n",
    "\n",
    "tf.enable_eager_execution()\n",
    "\n",
    "tf.executing_eagerly()\n",
    "\n",
    "print('Loaded TensorFlow version ' + tf.__version__)"
   ]
  },
  {
   "cell_type": "markdown",
   "metadata": {},
   "source": [
    "After version 1.7, TensorFlow supports a new execution mode that is easier for use with the interactive python interpreter. Google describes its eager execution mode as \"an imperative programming environment that evaluates operations immediately, without building graphs: operations return concrete values instead of constructing a computational graph to run later.\"\n",
    "\n",
    "TensorFlow used to only support creating a graph first and only evaluating operations in the context of \"sessions.\""
   ]
  },
  {
   "cell_type": "code",
   "execution_count": null,
   "metadata": {},
   "outputs": [],
   "source": []
  },
  {
   "cell_type": "markdown",
   "metadata": {},
   "source": [
    "Let's try making a tensor. First, we'll create a numpy array. Then we'll convert the numpy array into a TF tensor."
   ]
  },
  {
   "cell_type": "code",
   "execution_count": 3,
   "metadata": {},
   "outputs": [
    {
     "name": "stdout",
     "output_type": "stream",
     "text": [
      "[[[ 1.  2.  3.]\n",
      "  [ 4.  5.  6.]]\n",
      "\n",
      " [[ 7.  8.  9.]\n",
      "  [10. 11. 12.]]\n",
      "\n",
      " [[13. 14. 15.]\n",
      "  [16. 17. 99.]]]\n",
      "\n",
      " x has shape: \n",
      "\n",
      "(3, 2, 3)\n",
      "\n",
      " x is now a \n",
      "\n",
      "tf.Tensor(\n",
      "[[[ 1.  2.  3.]\n",
      "  [ 4.  5.  6.]]\n",
      "\n",
      " [[ 7.  8.  9.]\n",
      "  [10. 11. 12.]]\n",
      "\n",
      " [[13. 14. 15.]\n",
      "  [16. 17. 99.]]], shape=(3, 2, 3), dtype=float32)\n"
     ]
    }
   ],
   "source": [
    "x_data = np.array([[[ 1.,  2.,  3.], [ 4.,  5.,  6.]],\n",
    "                   [[ 7.,  8.,  9.], [10., 11., 12.]],\n",
    "                   [[13., 14., 15.], [16., 17., 99.]]])\n",
    "\n",
    "print(x_data)\n",
    "\n",
    "print('\\n x has shape: \\n')\n",
    "\n",
    "print(np.shape(x_data))\n",
    "\n",
    "# now let's make a TF tensor from the data\n",
    "x = tf.convert_to_tensor(x_data, dtype = tf.float32)\n",
    "\n",
    "print('\\n x is now a \\n')\n",
    "\n",
    "print(x)"
   ]
  },
  {
   "cell_type": "markdown",
   "metadata": {},
   "source": [
    "Slicing is a common operation performed on tensors. Let's try looking at a few slices of x"
   ]
  },
  {
   "cell_type": "code",
   "execution_count": 40,
   "metadata": {},
   "outputs": [
    {
     "name": "stdout",
     "output_type": "stream",
     "text": [
      "Slicing is performed from a start index to a finishing index.\n",
      "If I slice from (0,0,0) to (3,2,3), I obtain the entire tensor: \n",
      "\n",
      "tf.Tensor(\n",
      "[[[ 1.  2.  3.]\n",
      "  [ 4.  5.  6.]]\n",
      "\n",
      " [[ 7.  8.  9.]\n",
      "  [10. 11. 12.]]\n",
      "\n",
      " [[13. 14. 15.]\n",
      "  [16. 17. 18.]]], shape=(3, 2, 3), dtype=float32)\n",
      "\n",
      " If I slice from (1,0,0) to (2,2,3), I obtain: \n",
      "\n",
      "tf.Tensor(\n",
      "[[[ 7.  8.  9.]\n",
      "  [10. 11. 12.]]\n",
      "\n",
      " [[13. 14. 15.]\n",
      "  [16. 17. 18.]]], shape=(2, 2, 3), dtype=float32)\n",
      "\n",
      " If I slice from (2,0,0) to (3,2,3), I obtain: \n",
      "\n",
      "tf.Tensor(\n",
      "[[[13. 14. 15.]\n",
      "  [16. 17. 18.]]], shape=(1, 2, 3), dtype=float32)\n",
      "\n",
      " If I slice from (0,1,0) to (3,2,3), I obtain: \n",
      "\n",
      "tf.Tensor(\n",
      "[[[ 4.  5.  6.]]\n",
      "\n",
      " [[10. 11. 12.]]\n",
      "\n",
      " [[16. 17. 18.]]], shape=(3, 1, 3), dtype=float32)\n",
      "tf.Tensor(\n",
      "[[[ 2.]\n",
      "  [ 5.]]\n",
      "\n",
      " [[ 8.]\n",
      "  [11.]]\n",
      "\n",
      " [[14.]\n",
      "  [17.]]], shape=(3, 2, 1), dtype=float32)\n",
      "tf.Tensor(\n",
      "[[[ 2.  3.]\n",
      "  [ 5.  6.]]\n",
      "\n",
      " [[ 8.  9.]\n",
      "  [11. 12.]]\n",
      "\n",
      " [[14. 15.]\n",
      "  [17. 18.]]], shape=(3, 2, 2), dtype=float32)\n"
     ]
    }
   ],
   "source": [
    "print('Slicing is performed from a start index to a finishing index.')\n",
    "print('If I slice from (0,0,0) to (3,2,3), I obtain the entire tensor: \\n')\n",
    "print(tf.slice(x,[0,0,0],[3,2,3])) # the whole tensor\n",
    "\n",
    "print('\\n If I slice from (1,0,0) to (2,2,3), I obtain: \\n')\n",
    "print(tf.slice(x,[1,0,0],[2,2,3]))\n",
    "\n",
    "print('\\n If I slice from (2,0,0) to (3,2,3), I obtain: \\n')\n",
    "print(tf.slice(x,[2,0,0],[1,2,3]))\n",
    "\n",
    "print('\\n If I slice from (0,1,0) to (3,2,3), I obtain: \\n')\n",
    "print(tf.slice(x,[0,1,0],[3,1,3]))\n",
    "print(tf.slice(x,[0,0,1],[3,2,1]))\n",
    "print(tf.slice(x,[0,0,1],[3,2,2]))"
   ]
  },
  {
   "cell_type": "code",
   "execution_count": null,
   "metadata": {},
   "outputs": [],
   "source": []
  }
 ],
 "metadata": {
  "kernelspec": {
   "display_name": "Python 3",
   "language": "python",
   "name": "python3"
  },
  "language_info": {
   "codemirror_mode": {
    "name": "ipython",
    "version": 3
   },
   "file_extension": ".py",
   "mimetype": "text/x-python",
   "name": "python",
   "nbconvert_exporter": "python",
   "pygments_lexer": "ipython3",
   "version": "3.7.3"
  }
 },
 "nbformat": 4,
 "nbformat_minor": 2
}
