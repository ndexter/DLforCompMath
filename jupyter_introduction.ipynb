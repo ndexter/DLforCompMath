{
 "cells": [
  {
   "cell_type": "markdown",
   "metadata": {
    "toc": "true"
   },
   "source": [
    "# Table of Contents\n",
    " <p><div class=\"lev1 toc-item\"><a href=\"#Summary-for-today\" data-toc-modified-id=\"Summary-for-today-1\"><span class=\"toc-item-num\">1&nbsp;&nbsp;</span>Summary for today</a></div><div class=\"lev1 toc-item\"><a href=\"#Jupyter-Magics\" data-toc-modified-id=\"Jupyter-Magics-2\"><span class=\"toc-item-num\">2&nbsp;&nbsp;</span>Jupyter Magics</a></div><div class=\"lev2 toc-item\"><a href=\"#View-available-magics\" data-toc-modified-id=\"View-available-magics-21\"><span class=\"toc-item-num\">2.1&nbsp;&nbsp;</span>View available magics</a></div><div class=\"lev2 toc-item\"><a href=\"#Getting-help\" data-toc-modified-id=\"Getting-help-22\"><span class=\"toc-item-num\">2.2&nbsp;&nbsp;</span>Getting help</a></div><div class=\"lev2 toc-item\"><a href=\"#Timing-things!\" data-toc-modified-id=\"Timing-things!-23\"><span class=\"toc-item-num\">2.3&nbsp;&nbsp;</span>Timing things!</a></div><div class=\"lev2 toc-item\"><a href=\"#More-Magics\" data-toc-modified-id=\"More-Magics-24\"><span class=\"toc-item-num\">2.4&nbsp;&nbsp;</span>More Magics</a></div><div class=\"lev1 toc-item\"><a href=\"#Coding-basics-and-Pythonic-programming\" data-toc-modified-id=\"Coding-basics-and-Pythonic-programming-3\"><span class=\"toc-item-num\">3&nbsp;&nbsp;</span>Coding basics and Pythonic programming</a></div><div class=\"lev2 toc-item\"><a href=\"#Classes-in-Python\" data-toc-modified-id=\"Classes-in-Python-31\"><span class=\"toc-item-num\">3.1&nbsp;&nbsp;</span>Classes in Python</a></div><div class=\"lev2 toc-item\"><a href=\"#Generators\" data-toc-modified-id=\"Generators-32\"><span class=\"toc-item-num\">3.2&nbsp;&nbsp;</span>Generators</a></div><div class=\"lev3 toc-item\"><a href=\"#Simple-generator\" data-toc-modified-id=\"Simple-generator-321\"><span class=\"toc-item-num\">3.2.1&nbsp;&nbsp;</span>Simple generator</a></div><div class=\"lev3 toc-item\"><a href=\"#More-interesting\" data-toc-modified-id=\"More-interesting-322\"><span class=\"toc-item-num\">3.2.2&nbsp;&nbsp;</span>More interesting</a></div><div class=\"lev1 toc-item\"><a href=\"#Running-stuff-quickly\" data-toc-modified-id=\"Running-stuff-quickly-4\"><span class=\"toc-item-num\">4&nbsp;&nbsp;</span>Running stuff quickly</a></div><div class=\"lev2 toc-item\"><a href=\"#Fast(er)-norm-computations\" data-toc-modified-id=\"Fast(er)-norm-computations-41\"><span class=\"toc-item-num\">4.1&nbsp;&nbsp;</span>Fast(er) norm computations</a></div><div class=\"lev2 toc-item\"><a href=\"#Fast(er)-function-evaluations\" data-toc-modified-id=\"Fast(er)-function-evaluations-42\"><span class=\"toc-item-num\">4.2&nbsp;&nbsp;</span>Fast(er) function evaluations</a></div><div class=\"lev2 toc-item\"><a href=\"#Choose-the-right-function!\" data-toc-modified-id=\"Choose-the-right-function!-43\"><span class=\"toc-item-num\">4.3&nbsp;&nbsp;</span>Choose the right function!</a></div><div class=\"lev3 toc-item\"><a href=\"#The-reduce-function\" data-toc-modified-id=\"The-reduce-function-431\"><span class=\"toc-item-num\">4.3.1&nbsp;&nbsp;</span>The <code>reduce</code> function</a></div><div class=\"lev3 toc-item\"><a href=\"#Performance-of-reduce-vs.-sum\" data-toc-modified-id=\"Performance-of-reduce-vs.-sum-432\"><span class=\"toc-item-num\">4.3.2&nbsp;&nbsp;</span>Performance of <code>reduce</code> <em>vs.</em> <code>sum</code></a></div><div class=\"lev3 toc-item\"><a href=\"#Take-home\" data-toc-modified-id=\"Take-home-433\"><span class=\"toc-item-num\">4.3.3&nbsp;&nbsp;</span>Take-home</a></div><div class=\"lev1 toc-item\"><a href=\"#Fast-Computations-in-Python-with-Numba,-Cython,-etc.\" data-toc-modified-id=\"Fast-Computations-in-Python-with-Numba,-Cython,-etc.-5\"><span class=\"toc-item-num\">5&nbsp;&nbsp;</span>Fast Computations in Python with Numba, Cython, etc.</a></div><div class=\"lev2 toc-item\"><a href=\"#Set-up-for-the-example\" data-toc-modified-id=\"Set-up-for-the-example-51\"><span class=\"toc-item-num\">5.1&nbsp;&nbsp;</span>Set up for the example</a></div><div class=\"lev2 toc-item\"><a href=\"#Numba-version\" data-toc-modified-id=\"Numba-version-52\"><span class=\"toc-item-num\">5.2&nbsp;&nbsp;</span>Numba version</a></div><div class=\"lev2 toc-item\"><a href=\"#Other-options\" data-toc-modified-id=\"Other-options-53\"><span class=\"toc-item-num\">5.3&nbsp;&nbsp;</span>Other options</a></div>"
   ]
  },
  {
   "cell_type": "markdown",
   "metadata": {},
   "source": [
    "# Summary for today\n",
    "\n",
    "* Jupyter magics\n",
    "    * available magics\n",
    "    * seeking help\n",
    "    * timing things\n",
    "    * Executing `bash` commands from within Jupyter\n",
    "* Coding basics and pythonic programming\n",
    "    * classes in python\n",
    "    * generators\n",
    "* Running stuff quickly\n",
    "    * norm computations\n",
    "    * function evaluations\n",
    "    * choosing the right python function\n",
    "* Fast computations using more powerful packages\n",
    "    * Computing the mandelbrot set\n",
    "    * Using `numba`\n",
    "    * Other options: `numexpr`, `cython`"
   ]
  },
  {
   "cell_type": "markdown",
   "metadata": {},
   "source": [
    "# Jupyter Magics"
   ]
  },
  {
   "cell_type": "markdown",
   "metadata": {},
   "source": [
    "## View available magics"
   ]
  },
  {
   "cell_type": "code",
   "execution_count": 1,
   "metadata": {
    "collapsed": false,
    "scrolled": true
   },
   "outputs": [
    {
     "data": {
      "application/json": {
       "cell": {
        "!": "OSMagics",
        "HTML": "Other",
        "SVG": "Other",
        "bash": "Other",
        "capture": "ExecutionMagics",
        "debug": "ExecutionMagics",
        "file": "Other",
        "html": "DisplayMagics",
        "javascript": "DisplayMagics",
        "latex": "DisplayMagics",
        "perl": "Other",
        "prun": "ExecutionMagics",
        "pypy": "Other",
        "python": "Other",
        "python2": "Other",
        "python3": "Other",
        "ruby": "Other",
        "script": "ScriptMagics",
        "sh": "Other",
        "svg": "DisplayMagics",
        "sx": "OSMagics",
        "system": "OSMagics",
        "time": "ExecutionMagics",
        "timeit": "ExecutionMagics",
        "writefile": "OSMagics"
       },
       "line": {
        "alias": "OSMagics",
        "alias_magic": "BasicMagics",
        "autocall": "AutoMagics",
        "automagic": "AutoMagics",
        "autosave": "KernelMagics",
        "bookmark": "OSMagics",
        "cat": "Other",
        "cd": "OSMagics",
        "clear": "KernelMagics",
        "colors": "BasicMagics",
        "config": "ConfigMagics",
        "connect_info": "KernelMagics",
        "cp": "Other",
        "debug": "ExecutionMagics",
        "dhist": "OSMagics",
        "dirs": "OSMagics",
        "doctest_mode": "BasicMagics",
        "ed": "Other",
        "edit": "KernelMagics",
        "env": "OSMagics",
        "gui": "BasicMagics",
        "hist": "Other",
        "history": "HistoryMagics",
        "install_default_config": "DeprecatedMagics",
        "install_ext": "ExtensionMagics",
        "install_profiles": "DeprecatedMagics",
        "killbgscripts": "ScriptMagics",
        "ldir": "Other",
        "less": "KernelMagics",
        "lf": "Other",
        "lk": "Other",
        "ll": "Other",
        "load": "CodeMagics",
        "load_ext": "ExtensionMagics",
        "loadpy": "CodeMagics",
        "logoff": "LoggingMagics",
        "logon": "LoggingMagics",
        "logstart": "LoggingMagics",
        "logstate": "LoggingMagics",
        "logstop": "LoggingMagics",
        "ls": "Other",
        "lsmagic": "BasicMagics",
        "lx": "Other",
        "macro": "ExecutionMagics",
        "magic": "BasicMagics",
        "man": "KernelMagics",
        "matplotlib": "PylabMagics",
        "mkdir": "Other",
        "more": "KernelMagics",
        "mv": "Other",
        "notebook": "BasicMagics",
        "page": "BasicMagics",
        "pastebin": "CodeMagics",
        "pdb": "ExecutionMagics",
        "pdef": "NamespaceMagics",
        "pdoc": "NamespaceMagics",
        "pfile": "NamespaceMagics",
        "pinfo": "NamespaceMagics",
        "pinfo2": "NamespaceMagics",
        "popd": "OSMagics",
        "pprint": "BasicMagics",
        "precision": "BasicMagics",
        "profile": "BasicMagics",
        "prun": "ExecutionMagics",
        "psearch": "NamespaceMagics",
        "psource": "NamespaceMagics",
        "pushd": "OSMagics",
        "pwd": "OSMagics",
        "pycat": "OSMagics",
        "pylab": "PylabMagics",
        "qtconsole": "KernelMagics",
        "quickref": "BasicMagics",
        "recall": "HistoryMagics",
        "rehashx": "OSMagics",
        "reload_ext": "ExtensionMagics",
        "rep": "Other",
        "rerun": "HistoryMagics",
        "reset": "NamespaceMagics",
        "reset_selective": "NamespaceMagics",
        "rm": "Other",
        "rmdir": "Other",
        "run": "ExecutionMagics",
        "save": "CodeMagics",
        "sc": "OSMagics",
        "set_env": "OSMagics",
        "store": "StoreMagics",
        "sx": "OSMagics",
        "system": "OSMagics",
        "tb": "ExecutionMagics",
        "time": "ExecutionMagics",
        "timeit": "ExecutionMagics",
        "unalias": "OSMagics",
        "unload_ext": "ExtensionMagics",
        "who": "NamespaceMagics",
        "who_ls": "NamespaceMagics",
        "whos": "NamespaceMagics",
        "xdel": "NamespaceMagics",
        "xmode": "BasicMagics"
       }
      },
      "text/plain": [
       "Available line magics:\n",
       "%alias  %alias_magic  %autocall  %automagic  %autosave  %bookmark  %cat  %cd  %clear  %colors  %config  %connect_info  %cp  %debug  %dhist  %dirs  %doctest_mode  %ed  %edit  %env  %gui  %hist  %history  %install_default_config  %install_ext  %install_profiles  %killbgscripts  %ldir  %less  %lf  %lk  %ll  %load  %load_ext  %loadpy  %logoff  %logon  %logstart  %logstate  %logstop  %ls  %lsmagic  %lx  %macro  %magic  %man  %matplotlib  %mkdir  %more  %mv  %notebook  %page  %pastebin  %pdb  %pdef  %pdoc  %pfile  %pinfo  %pinfo2  %popd  %pprint  %precision  %profile  %prun  %psearch  %psource  %pushd  %pwd  %pycat  %pylab  %qtconsole  %quickref  %recall  %rehashx  %reload_ext  %rep  %rerun  %reset  %reset_selective  %rm  %rmdir  %run  %save  %sc  %set_env  %store  %sx  %system  %tb  %time  %timeit  %unalias  %unload_ext  %who  %who_ls  %whos  %xdel  %xmode\n",
       "\n",
       "Available cell magics:\n",
       "%%!  %%HTML  %%SVG  %%bash  %%capture  %%debug  %%file  %%html  %%javascript  %%latex  %%perl  %%prun  %%pypy  %%python  %%python2  %%python3  %%ruby  %%script  %%sh  %%svg  %%sx  %%system  %%time  %%timeit  %%writefile\n",
       "\n",
       "Automagic is ON, % prefix IS NOT needed for line magics."
      ]
     },
     "execution_count": 1,
     "metadata": {},
     "output_type": "execute_result"
    }
   ],
   "source": [
    "%lsmagic"
   ]
  },
  {
   "cell_type": "markdown",
   "metadata": {},
   "source": [
    "## Getting help"
   ]
  },
  {
   "cell_type": "code",
   "execution_count": 2,
   "metadata": {
    "collapsed": true
   },
   "outputs": [],
   "source": [
    "%alias?"
   ]
  },
  {
   "cell_type": "markdown",
   "metadata": {},
   "source": [
    "## Timing things!"
   ]
  },
  {
   "cell_type": "markdown",
   "metadata": {},
   "source": [
    "One of the available magics allows you to run benchmarks. To see how this works, we'll time Python's execution of the `pass` command (which does nothing, literally). "
   ]
  },
  {
   "cell_type": "code",
   "execution_count": 3,
   "metadata": {
    "collapsed": false
   },
   "outputs": [
    {
     "name": "stdout",
     "output_type": "stream",
     "text": [
      "100000000 loops, best of 3: 9.33 ns per loop\n"
     ]
    }
   ],
   "source": [
    "%timeit pass"
   ]
  },
  {
   "cell_type": "markdown",
   "metadata": {},
   "source": [
    "Python allows you to store the output to a variable by passing the `-o` flag. The `-n` flag controls how many loops are done on each of the 3 repetitions. See documentation for more options."
   ]
  },
  {
   "cell_type": "code",
   "execution_count": 4,
   "metadata": {
    "collapsed": false
   },
   "outputs": [
    {
     "name": "stdout",
     "output_type": "stream",
     "text": [
      "100 loops, best of 3: 20.4 ns per loop\n"
     ]
    }
   ],
   "source": [
    "timeitResult = %timeit -n100 -o x=3"
   ]
  },
  {
   "cell_type": "markdown",
   "metadata": {},
   "source": [
    "We can benchmark the reduce function `numpy` to see which can add more quickly. We'll do this here because `reduce` *may* appear again later, below. "
   ]
  },
  {
   "cell_type": "markdown",
   "metadata": {},
   "source": [
    "## More Magics"
   ]
  },
  {
   "cell_type": "markdown",
   "metadata": {},
   "source": [
    "Run `bash` commands using an '!'"
   ]
  },
  {
   "cell_type": "code",
   "execution_count": 5,
   "metadata": {
    "collapsed": false
   },
   "outputs": [
    {
     "name": "stdout",
     "output_type": "stream",
     "text": [
      "Gradient Descent (master).ipynb   UBCS3.4 (28 October 2016).ipynb\r\n",
      "Gradient Descent (skeleton).ipynb UBCS3_2.1_20170120.ipynb\r\n",
      "Python Utilities (live).ipynb     UBCS3_2.2_20170127.ipynb\r\n",
      "Python utilities.ipynb            UBCS3_2.3_20170203.ipynb\r\n",
      "README                            \u001b[1m\u001b[34mdata\u001b[m\u001b[m\r\n",
      "UBCS3.1 (7 October 2016).ipynb    flaskapp.py\r\n",
      "UBCS3.2 (14 October 2016).ipynb   test_file.py\r\n",
      "UBCS3.3 (21 October 2016).ipynb\r\n"
     ]
    }
   ],
   "source": [
    "!ls"
   ]
  },
  {
   "cell_type": "markdown",
   "metadata": {},
   "source": [
    "We can even save them to a variable."
   ]
  },
  {
   "cell_type": "code",
   "execution_count": 6,
   "metadata": {
    "collapsed": true
   },
   "outputs": [],
   "source": [
    "my_ls_result = !ls"
   ]
  },
  {
   "cell_type": "code",
   "execution_count": 7,
   "metadata": {
    "collapsed": false
   },
   "outputs": [
    {
     "name": "stdout",
     "output_type": "stream",
     "text": [
      "['Gradient Descent (master).ipynb', 'Gradient Descent (skeleton).ipynb', 'Python Utilities (live).ipynb', 'Python utilities.ipynb', 'README', 'UBCS3.1 (7 October 2016).ipynb', 'UBCS3.2 (14 October 2016).ipynb', 'UBCS3.3 (21 October 2016).ipynb', 'UBCS3.4 (28 October 2016).ipynb', 'UBCS3_2.1_20170120.ipynb', 'UBCS3_2.2_20170127.ipynb', 'UBCS3_2.3_20170203.ipynb', 'data', 'flaskapp.py', 'test_file.py']\n"
     ]
    }
   ],
   "source": [
    "print(my_ls_result)"
   ]
  },
  {
   "cell_type": "markdown",
   "metadata": {},
   "source": [
    "Load files using the `%load` magic.  \n",
    "**Note:** Python will produce an error if the file does not exist (obviously). "
   ]
  },
  {
   "cell_type": "code",
   "execution_count": null,
   "metadata": {
    "collapsed": false
   },
   "outputs": [],
   "source": [
    "%load test_file.py"
   ]
  },
  {
   "cell_type": "markdown",
   "metadata": {},
   "source": [
    "Run a cell as a `bash` script by using the `%%bash` magic. Useful if you need to `awk` or `sed` something without leaving the comfort of Jupyter."
   ]
  },
  {
   "cell_type": "code",
   "execution_count": 9,
   "metadata": {
    "collapsed": false
   },
   "outputs": [
    {
     "name": "stdout",
     "output_type": "stream",
     "text": [
      "a\n",
      "b\n",
      "c\n"
     ]
    }
   ],
   "source": [
    "%%bash\n",
    "for i in a b c;\n",
    "do\n",
    "echo $i\n",
    "done"
   ]
  },
  {
   "cell_type": "markdown",
   "metadata": {},
   "source": [
    "# Coding basics and Pythonic programming"
   ]
  },
  {
   "cell_type": "markdown",
   "metadata": {},
   "source": [
    "## Classes in Python"
   ]
  },
  {
   "cell_type": "markdown",
   "metadata": {},
   "source": [
    "Classes in Python are pretty similar to classes in other languages. Key differences: no private/public variables; definition of classes is slightly different than in other languages: `__init__` instead of `main`."
   ]
  },
  {
   "cell_type": "code",
   "execution_count": 10,
   "metadata": {
    "collapsed": true
   },
   "outputs": [],
   "source": [
    "class MyNewClass:\n",
    "    def __init__(self, x):\n",
    "        self.x = x\n",
    "    def helper1():\n",
    "        print('World!')\n",
    "    def helper2(self):\n",
    "        print('Hello')\n",
    "    def class_method(self):\n",
    "        \"\"\"\n",
    "        class method for MyNewClass\n",
    "        \"\"\"\n",
    "        MyNewClass.helper1()\n",
    "        self.helper2()"
   ]
  },
  {
   "cell_type": "code",
   "execution_count": 11,
   "metadata": {
    "collapsed": true
   },
   "outputs": [],
   "source": [
    "myvar = MyNewClass(3)"
   ]
  },
  {
   "cell_type": "code",
   "execution_count": 12,
   "metadata": {
    "collapsed": false
   },
   "outputs": [
    {
     "data": {
      "text/plain": [
       "3"
      ]
     },
     "execution_count": 12,
     "metadata": {},
     "output_type": "execute_result"
    }
   ],
   "source": [
    "myvar.x"
   ]
  },
  {
   "cell_type": "code",
   "execution_count": 13,
   "metadata": {
    "collapsed": false
   },
   "outputs": [
    {
     "name": "stdout",
     "output_type": "stream",
     "text": [
      "helper1 is not an instance method\n"
     ]
    }
   ],
   "source": [
    "try:\n",
    "    myvar.helper1()\n",
    "except:\n",
    "    print('helper1 is not an instance method')"
   ]
  },
  {
   "cell_type": "code",
   "execution_count": 14,
   "metadata": {
    "collapsed": false
   },
   "outputs": [
    {
     "name": "stdout",
     "output_type": "stream",
     "text": [
      "World!\n"
     ]
    }
   ],
   "source": [
    "try:\n",
    "    MyNewClass.helper1()\n",
    "except:\n",
    "    print('helper1 is not a class method')"
   ]
  },
  {
   "cell_type": "code",
   "execution_count": 15,
   "metadata": {
    "collapsed": false
   },
   "outputs": [
    {
     "name": "stdout",
     "output_type": "stream",
     "text": [
      "Hello\n"
     ]
    }
   ],
   "source": [
    "try:\n",
    "    myvar.helper2()\n",
    "except:\n",
    "    print('helper2 is not an instance method')"
   ]
  },
  {
   "cell_type": "code",
   "execution_count": 16,
   "metadata": {
    "collapsed": false
   },
   "outputs": [
    {
     "name": "stdout",
     "output_type": "stream",
     "text": [
      "helper2 is not a class method\n"
     ]
    }
   ],
   "source": [
    "try:\n",
    "    MyNewClass.helper2()\n",
    "except:\n",
    "    print('helper2 is not a class method')"
   ]
  },
  {
   "cell_type": "code",
   "execution_count": 17,
   "metadata": {
    "collapsed": false
   },
   "outputs": [
    {
     "name": "stdout",
     "output_type": "stream",
     "text": [
      "World!\n",
      "Hello\n"
     ]
    }
   ],
   "source": [
    "myvar.class_method()"
   ]
  },
  {
   "cell_type": "markdown",
   "metadata": {},
   "source": [
    "## Generators\n",
    "\n",
    "What are generators? In Python3, generators are a way of mimicking lazy evaluation (actually they are not lazy evaluation and there's a good reason for that...) You can create a generator in Python using a special syntax between any kind of braces that your heart desires (except angle brackets; no love for angle brackets :<). \n",
    "\n",
    "Contrary to what I said in person, `range` does not return a generator/iterator object. "
   ]
  },
  {
   "cell_type": "markdown",
   "metadata": {},
   "source": [
    "### Simple generator"
   ]
  },
  {
   "cell_type": "code",
   "execution_count": 18,
   "metadata": {
    "collapsed": true
   },
   "outputs": [],
   "source": [
    "my_first_generator = (j for j in range(10))"
   ]
  },
  {
   "cell_type": "code",
   "execution_count": 19,
   "metadata": {
    "collapsed": false
   },
   "outputs": [
    {
     "data": {
      "text/plain": [
       "<generator object <genexpr> at 0x106748f10>"
      ]
     },
     "execution_count": 19,
     "metadata": {},
     "output_type": "execute_result"
    }
   ],
   "source": [
    "my_first_generator"
   ]
  },
  {
   "cell_type": "code",
   "execution_count": 20,
   "metadata": {
    "collapsed": false
   },
   "outputs": [
    {
     "data": {
      "text/plain": [
       "0"
      ]
     },
     "execution_count": 20,
     "metadata": {},
     "output_type": "execute_result"
    }
   ],
   "source": [
    "next(my_first_generator)"
   ]
  },
  {
   "cell_type": "code",
   "execution_count": 21,
   "metadata": {
    "collapsed": false
   },
   "outputs": [
    {
     "data": {
      "text/plain": [
       "1"
      ]
     },
     "execution_count": 21,
     "metadata": {},
     "output_type": "execute_result"
    }
   ],
   "source": [
    "next(my_first_generator)"
   ]
  },
  {
   "cell_type": "markdown",
   "metadata": {},
   "source": [
    "### More interesting"
   ]
  },
  {
   "cell_type": "code",
   "execution_count": 22,
   "metadata": {
    "collapsed": true
   },
   "outputs": [],
   "source": [
    "list_with_repeats = [1,2,4,7,4,6,5,4,3,2,2,2,1]"
   ]
  },
  {
   "cell_type": "code",
   "execution_count": 23,
   "metadata": {
    "collapsed": false
   },
   "outputs": [
    {
     "data": {
      "text/plain": [
       "2"
      ]
     },
     "execution_count": 23,
     "metadata": {},
     "output_type": "execute_result"
    }
   ],
   "source": [
    "next(j for j in range(len(list_with_repeats)) if list_with_repeats[j] == 4)"
   ]
  },
  {
   "cell_type": "code",
   "execution_count": 24,
   "metadata": {
    "collapsed": false
   },
   "outputs": [
    {
     "data": {
      "text/plain": [
       "2"
      ]
     },
     "execution_count": 24,
     "metadata": {},
     "output_type": "execute_result"
    }
   ],
   "source": [
    "next(j for j,x in enumerate(list_with_repeats) if x == 4)"
   ]
  },
  {
   "cell_type": "markdown",
   "metadata": {},
   "source": [
    "But the above code is not very \"pythonic\" -- there's a simpler way to express the same thing using basic python commands. "
   ]
  },
  {
   "cell_type": "code",
   "execution_count": 25,
   "metadata": {
    "collapsed": false
   },
   "outputs": [
    {
     "data": {
      "text/plain": [
       "2"
      ]
     },
     "execution_count": 25,
     "metadata": {},
     "output_type": "execute_result"
    }
   ],
   "source": [
    "list_with_repeats.index(4)"
   ]
  },
  {
   "cell_type": "markdown",
   "metadata": {},
   "source": [
    "# Running stuff quickly\n",
    "\n",
    "In this section we'll present a brief overview of running stuff more quickly by adapting our own code rather than by looking to more powerful packages."
   ]
  },
  {
   "cell_type": "markdown",
   "metadata": {},
   "source": [
    "## Fast(er) norm computations"
   ]
  },
  {
   "cell_type": "markdown",
   "metadata": {},
   "source": [
    "Step one for faster computations: be sure to compute things in an energy- and memory-minimal way. There are three good options below, and one terrible option."
   ]
  },
  {
   "cell_type": "code",
   "execution_count": 26,
   "metadata": {
    "collapsed": true
   },
   "outputs": [],
   "source": [
    "import numpy as np\n",
    "N = int(1e5)\n",
    "w = np.random.randn(N, 1)"
   ]
  },
  {
   "cell_type": "code",
   "execution_count": 27,
   "metadata": {
    "collapsed": false
   },
   "outputs": [
    {
     "name": "stdout",
     "output_type": "stream",
     "text": [
      "The slowest run took 9.99 times longer than the fastest. This could mean that an intermediate result is being cached.\n",
      "1000 loops, best of 5: 8.97 µs per loop\n"
     ]
    }
   ],
   "source": [
    "t_wdot = %timeit -r5 -n1000 -o np.dot(w.T, w)"
   ]
  },
  {
   "cell_type": "code",
   "execution_count": 28,
   "metadata": {
    "collapsed": false
   },
   "outputs": [
    {
     "name": "stdout",
     "output_type": "stream",
     "text": [
      "1000 loops, best of 5: 16.1 µs per loop\n"
     ]
    }
   ],
   "source": [
    "t_atsymb = %timeit -r5 -n1000 -o w.T @ w"
   ]
  },
  {
   "cell_type": "code",
   "execution_count": 29,
   "metadata": {
    "collapsed": false
   },
   "outputs": [
    {
     "name": "stdout",
     "output_type": "stream",
     "text": [
      "1000 loops, best of 5: 92.7 µs per loop\n"
     ]
    }
   ],
   "source": [
    "t_sumsq = %timeit -r5 -n1000 -o (w**2).sum()"
   ]
  },
  {
   "cell_type": "code",
   "execution_count": 30,
   "metadata": {
    "collapsed": false
   },
   "outputs": [
    {
     "name": "stdout",
     "output_type": "stream",
     "text": [
      "1000 loops, best of 5: 23.9 µs per loop\n"
     ]
    }
   ],
   "source": [
    "t_linalg = %timeit -r5 -n1000 -o np.linalg.norm(w)"
   ]
  },
  {
   "cell_type": "markdown",
   "metadata": {},
   "source": [
    "## Fast(er) function evaluations\n",
    "\n",
    "Similarly, there's a terrible way of normalizing a vector and a less terrible way of normalizing a vector. Implicit array copying is a nuisance — try to avoid it, and instead aim for preallocated memory. "
   ]
  },
  {
   "cell_type": "code",
   "execution_count": 31,
   "metadata": {
    "collapsed": true
   },
   "outputs": [],
   "source": [
    "def normalize_vector_1(v):\n",
    "    v /= np.linalg.norm(v)\n",
    "    return v\n",
    "def normalize_vector_2(v):\n",
    "    v = v/np.linalg.norm(v)\n",
    "    return v\n",
    "def normalize_vector_3(v):\n",
    "    return v/np.linalg.norm(v)"
   ]
  },
  {
   "cell_type": "code",
   "execution_count": 32,
   "metadata": {
    "collapsed": false
   },
   "outputs": [
    {
     "name": "stdout",
     "output_type": "stream",
     "text": [
      "10000 loops, best of 3: 148 µs per loop\n"
     ]
    }
   ],
   "source": [
    "%%timeit v = np.random.randn(100000)\n",
    "normalize_vector_1(v)"
   ]
  },
  {
   "cell_type": "code",
   "execution_count": 33,
   "metadata": {
    "collapsed": false
   },
   "outputs": [
    {
     "name": "stdout",
     "output_type": "stream",
     "text": [
      "1000 loops, best of 3: 241 µs per loop\n"
     ]
    }
   ],
   "source": [
    "%%timeit v = np.random.randn(100000)\n",
    "normalize_vector_2(v)"
   ]
  },
  {
   "cell_type": "code",
   "execution_count": 34,
   "metadata": {
    "collapsed": false
   },
   "outputs": [
    {
     "name": "stdout",
     "output_type": "stream",
     "text": [
      "1000 loops, best of 3: 233 µs per loop\n"
     ]
    }
   ],
   "source": [
    "%%timeit v = np.random.randn(100000)\n",
    "normalize_vector_3(v)"
   ]
  },
  {
   "cell_type": "markdown",
   "metadata": {},
   "source": [
    "In this case, implicit array copying causes a factor-of-2 slow-down."
   ]
  },
  {
   "cell_type": "markdown",
   "metadata": {},
   "source": [
    "## Choose the right function!"
   ]
  },
  {
   "cell_type": "markdown",
   "metadata": {},
   "source": [
    "### The `reduce` function"
   ]
  },
  {
   "cell_type": "markdown",
   "metadata": {},
   "source": [
    "The reduce function allows you to apply a function consecutively to the result and the next element in a list. That is, given $f : S\\times S \\to S$ sending $(a,b) \\mapsto c$, we have  \n",
    "`reduce(f, [x1, x2, x3, x4]) = f(f(f(x1, x2), x3), x4)`"
   ]
  },
  {
   "cell_type": "code",
   "execution_count": 35,
   "metadata": {
    "collapsed": true
   },
   "outputs": [],
   "source": [
    "from functools import reduce"
   ]
  },
  {
   "cell_type": "code",
   "execution_count": 36,
   "metadata": {
    "collapsed": true
   },
   "outputs": [],
   "source": [
    "def addstuff(a,b):\n",
    "    return a+b"
   ]
  },
  {
   "cell_type": "code",
   "execution_count": 37,
   "metadata": {
    "collapsed": false
   },
   "outputs": [
    {
     "data": {
      "text/plain": [
       "6"
      ]
     },
     "execution_count": 37,
     "metadata": {},
     "output_type": "execute_result"
    }
   ],
   "source": [
    "reduce(addstuff, [1,2,3])"
   ]
  },
  {
   "cell_type": "markdown",
   "metadata": {},
   "source": [
    "### Performance of `reduce` *vs.* `sum`"
   ]
  },
  {
   "cell_type": "markdown",
   "metadata": {},
   "source": [
    "Sometimes there are better options, but sometimes `reduce` is the right choice. This is an example of when `reduce` is not the right option. "
   ]
  },
  {
   "cell_type": "code",
   "execution_count": 38,
   "metadata": {
    "collapsed": false
   },
   "outputs": [
    {
     "name": "stdout",
     "output_type": "stream",
     "text": [
      "1000 loops, best of 5: 151 µs per loop\n"
     ]
    }
   ],
   "source": [
    "%timeit -n1000 -r5 reduce(lambda x,y: x+y, range(1000))"
   ]
  },
  {
   "cell_type": "code",
   "execution_count": 39,
   "metadata": {
    "collapsed": false
   },
   "outputs": [
    {
     "name": "stdout",
     "output_type": "stream",
     "text": [
      "1000 loops, best of 5: 18 µs per loop\n"
     ]
    }
   ],
   "source": [
    "%timeit -n1000 -r5 sum(range(1000))"
   ]
  },
  {
   "cell_type": "markdown",
   "metadata": {},
   "source": [
    "### Take-home\n",
    "\n",
    "`reduce` is obviously more general, but not appropriate in this case, because clever people have written much more specific code to perform the sum of $N$ elements much more quickly. \n",
    "\n",
    "`reduce` *might* be the right option when it is likely that someone has not already created a fast method for performing a given function many times consecutively. "
   ]
  },
  {
   "cell_type": "markdown",
   "metadata": {},
   "source": [
    "# Fast Computations in Python with Numba, Cython, etc."
   ]
  },
  {
   "cell_type": "markdown",
   "metadata": {},
   "source": [
    "There's a number of a packages/tools in Python that allow you to speed up your existing code. We'll only have time to see one of them. But visit the other document for lots of sample code. "
   ]
  },
  {
   "cell_type": "markdown",
   "metadata": {},
   "source": [
    "## Set up for the example"
   ]
  },
  {
   "cell_type": "code",
   "execution_count": 41,
   "metadata": {
    "collapsed": false
   },
   "outputs": [
    {
     "name": "stdout",
     "output_type": "stream",
     "text": [
      "Once deleted, variables cannot be recovered. Proceed (y/[n])? y\n"
     ]
    }
   ],
   "source": [
    "%reset"
   ]
  },
  {
   "cell_type": "code",
   "execution_count": 42,
   "metadata": {
    "collapsed": true
   },
   "outputs": [],
   "source": [
    "import numpy as np"
   ]
  },
  {
   "cell_type": "code",
   "execution_count": 43,
   "metadata": {
    "collapsed": true
   },
   "outputs": [],
   "source": [
    "size = 200\n",
    "iterations = 100"
   ]
  },
  {
   "cell_type": "code",
   "execution_count": 44,
   "metadata": {
    "collapsed": true
   },
   "outputs": [],
   "source": [
    "def mandelbrot_python(m, size, iterations):\n",
    "    for i in range(size):\n",
    "        for j in range(size):\n",
    "            c = -2 + 3./size*j + 1j*(1.5 - 3./size*i)\n",
    "            z = 0\n",
    "            for n in range(iterations):\n",
    "                if np.abs(z) <= 10:\n",
    "                    z = z*z + c\n",
    "                    m[i, j] = n\n",
    "                else:\n",
    "                    break"
   ]
  },
  {
   "cell_type": "code",
   "execution_count": 45,
   "metadata": {
    "collapsed": true
   },
   "outputs": [],
   "source": [
    "m = np.zeros((size, size))"
   ]
  },
  {
   "cell_type": "code",
   "execution_count": 46,
   "metadata": {
    "collapsed": true
   },
   "outputs": [],
   "source": [
    "mandelbrot_python(m, size, iterations)"
   ]
  },
  {
   "cell_type": "code",
   "execution_count": 47,
   "metadata": {
    "collapsed": false
   },
   "outputs": [
    {
     "data": {
      "image/png": "[encoded data removed]",
      "text/plain": [
       "<matplotlib.figure.Figure at 0x10bb16dd8>"
      ]
     },
     "metadata": {},
     "output_type": "display_data"
    }
   ],
   "source": [
    "import matplotlib.pyplot as plt\n",
    "%matplotlib inline\n",
    "plt.imshow(np.log(m), cmap=plt.cm.hot)\n",
    "plt.xticks([]); plt.yticks([]);"
   ]
  },
  {
   "cell_type": "code",
   "execution_count": 48,
   "metadata": {
    "collapsed": false
   },
   "outputs": [
    {
     "name": "stdout",
     "output_type": "stream",
     "text": [
      "1 loop, best of 3: 2.4 s per loop\n"
     ]
    }
   ],
   "source": [
    "%%timeit m = np.zeros((size, size))\n",
    "mandelbrot_python(m, size, iterations)"
   ]
  },
  {
   "cell_type": "markdown",
   "metadata": {},
   "source": [
    "## Numba version"
   ]
  },
  {
   "cell_type": "markdown",
   "metadata": {},
   "source": [
    "Numba allows for just-in-time compilation of functions. Very much quickens certain types of function calls. Pretty easy to use. Simply apply the decorator and proceed to benchmarking!"
   ]
  },
  {
   "cell_type": "code",
   "execution_count": 49,
   "metadata": {
    "collapsed": true
   },
   "outputs": [],
   "source": [
    "import numba\n",
    "from numba import jit, complex128"
   ]
  },
  {
   "cell_type": "code",
   "execution_count": 50,
   "metadata": {
    "collapsed": true
   },
   "outputs": [],
   "source": [
    "@jit(locals=dict(c=complex128, z=complex128))\n",
    "def mandelbrot_numba(m, size, iterations):\n",
    "    for i in range(size):\n",
    "        for j in range(size):\n",
    "            c = -2 + 3./size*j + 1j*(1.5 - 3./size*i)\n",
    "            z = 0\n",
    "            for n in range(iterations):\n",
    "                if np.abs(z) <= 10:\n",
    "                    z = z*z + c\n",
    "                    m[i, j] = n\n",
    "                else:\n",
    "                    break"
   ]
  },
  {
   "cell_type": "code",
   "execution_count": 51,
   "metadata": {
    "collapsed": true
   },
   "outputs": [],
   "source": [
    "m = np.zeros((size, size))\n",
    "mandelbrot_numba(m, size, iterations)"
   ]
  },
  {
   "cell_type": "code",
   "execution_count": 52,
   "metadata": {
    "collapsed": false
   },
   "outputs": [
    {
     "name": "stdout",
     "output_type": "stream",
     "text": [
      "100 loops, best of 3: 5.82 ms per loop\n"
     ]
    }
   ],
   "source": [
    "%%timeit m = np.zeros((size, size))\n",
    "mandelbrot_numba(m, size, iterations)"
   ]
  },
  {
   "cell_type": "markdown",
   "metadata": {},
   "source": [
    "## Other options"
   ]
  },
  {
   "cell_type": "markdown",
   "metadata": {},
   "source": [
    "`numba`, `numexpr`, `cython`, write your code in a lower-level language like C. "
   ]
  }
 ],
 "metadata": {
  "kernelspec": {
   "display_name": "Python 3",
   "language": "python",
   "name": "python3"
  },
  "language_info": {
   "codemirror_mode": {
    "name": "ipython",
    "version": 3
   },
   "file_extension": ".py",
   "mimetype": "text/x-python",
   "name": "python",
   "nbconvert_exporter": "python",
   "pygments_lexer": "ipython3",
   "version": "3.5.2"
  },
  "toc": {
   "nav_menu": {
    "height": "192px",
    "width": "252px"
   },
   "navigate_menu": true,
   "number_sections": true,
   "sideBar": true,
   "threshold": 4,
   "toc_cell": true,
   "toc_section_display": "block",
   "toc_window_display": false
  }
 },
 "nbformat": 4,
 "nbformat_minor": 1
}
